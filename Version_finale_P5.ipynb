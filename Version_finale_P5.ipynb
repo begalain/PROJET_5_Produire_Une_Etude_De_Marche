{
 "cells": [
  {
   "cell_type": "markdown",
   "metadata": {},
   "source": [
    "<a id='sommaire'></a>\n",
    "<h1 style='text-align:center'>PROJET 5</h1>"
   ]
  },
  {
   "cell_type": "markdown",
   "metadata": {},
   "source": [
    "[Travail sur les données de populations](#population)  \n",
    "[Travail sur les données alimentaires](#dispo_alim)  \n",
    "[Ajout de nouvelles variables](#nouvelle_variable)  \n",
    "[Analyse en Composantes Pricipales et Clustering](#acp)  \n",
    "[Tests statistiques](#test)"
   ]
  },
  {
   "cell_type": "code",
   "execution_count": 1,
   "metadata": {},
   "outputs": [
    {
     "name": "stdout",
     "output_type": "stream",
     "text": [
      "0.23.4\n"
     ]
    }
   ],
   "source": [
    "#! coding:utf-8\n",
    "import pandas as pd\n",
    "print(pd.__version__)"
   ]
  },
  {
   "cell_type": "code",
   "execution_count": 2,
   "metadata": {},
   "outputs": [
    {
     "name": "stdout",
     "output_type": "stream",
     "text": [
      "1.15.4\n"
     ]
    }
   ],
   "source": [
    "import numpy as np\n",
    "print(np.__version__)"
   ]
  },
  {
   "cell_type": "code",
   "execution_count": 3,
   "metadata": {},
   "outputs": [
    {
     "name": "stdout",
     "output_type": "stream",
     "text": [
      "1.1.0\n"
     ]
    }
   ],
   "source": [
    "import scipy\n",
    "from scipy import stats\n",
    "from scipy.stats import kstest, ks_2samp\n",
    "print(scipy.__version__)"
   ]
  },
  {
   "cell_type": "code",
   "execution_count": 4,
   "metadata": {},
   "outputs": [
    {
     "name": "stdout",
     "output_type": "stream",
     "text": [
      "0.20.1\n"
     ]
    }
   ],
   "source": [
    "import sklearn\n",
    "print(sklearn.__version__)\n",
    "from sklearn import preprocessing, decomposition, metrics\n"
   ]
  },
  {
   "cell_type": "code",
   "execution_count": 5,
   "metadata": {},
   "outputs": [
    {
     "name": "stdout",
     "output_type": "stream",
     "text": [
      "3.0.2\n"
     ]
    }
   ],
   "source": [
    "import matplotlib\n",
    "print(matplotlib.__version__)"
   ]
  },
  {
   "cell_type": "code",
   "execution_count": 6,
   "metadata": {},
   "outputs": [],
   "source": [
    "import os\n",
    "os.makedirs('graph', exist_ok=True)\n",
    "os.makedirs('created_csv', exist_ok=True)"
   ]
  },
  {
   "cell_type": "markdown",
   "metadata": {},
   "source": [
    "## Travail préparatoire"
   ]
  },
  {
   "cell_type": "markdown",
   "metadata": {},
   "source": [
    "<a id='population'></a>\n",
    "<h3 style='color:#8677b2'>Travail sur les données de populations</h3>"
   ]
  },
  {
   "cell_type": "markdown",
   "metadata": {},
   "source": [
    "[Haut de page](#sommaire)"
   ]
  },
  {
   "cell_type": "markdown",
   "metadata": {},
   "source": [
    "<p style='color:#88cc8d;text-align:center'>\n",
    "    Population > Séries temporelles annuelles<br/>\n",
    "    Tous les pays sauf \"Chine\" > Population totale > 2003 et 2013<br/>\n",
    "    Unité: Millier de personnes<br/>\n",
    "    <a href=\"http://www.fao.org/faostat/fr/#data\">Source F.A.O.</a><br/> \n",
    "</p>"
   ]
  },
  {
   "cell_type": "code",
   "execution_count": 7,
   "metadata": {},
   "outputs": [
    {
     "data": {
      "text/html": [
       "<div>\n",
       "<style scoped>\n",
       "    .dataframe tbody tr th:only-of-type {\n",
       "        vertical-align: middle;\n",
       "    }\n",
       "\n",
       "    .dataframe tbody tr th {\n",
       "        vertical-align: top;\n",
       "    }\n",
       "\n",
       "    .dataframe thead th {\n",
       "        text-align: right;\n",
       "    }\n",
       "</style>\n",
       "<table border=\"1\" class=\"dataframe\">\n",
       "  <thead>\n",
       "    <tr style=\"text-align: right;\">\n",
       "      <th>Année</th>\n",
       "      <th>2003</th>\n",
       "      <th>2013</th>\n",
       "    </tr>\n",
       "    <tr>\n",
       "      <th>Zone</th>\n",
       "      <th></th>\n",
       "      <th></th>\n",
       "    </tr>\n",
       "  </thead>\n",
       "  <tbody>\n",
       "    <tr>\n",
       "      <th>Afghanistan</th>\n",
       "      <td>23064.851</td>\n",
       "      <td>31731.688</td>\n",
       "    </tr>\n",
       "    <tr>\n",
       "      <th>Afrique du Sud</th>\n",
       "      <td>47648.727</td>\n",
       "      <td>53767.396</td>\n",
       "    </tr>\n",
       "    <tr>\n",
       "      <th>Albanie</th>\n",
       "      <td>3111.005</td>\n",
       "      <td>2918.978</td>\n",
       "    </tr>\n",
       "    <tr>\n",
       "      <th>Algérie</th>\n",
       "      <td>32403.514</td>\n",
       "      <td>38338.562</td>\n",
       "    </tr>\n",
       "    <tr>\n",
       "      <th>Allemagne</th>\n",
       "      <td>81686.495</td>\n",
       "      <td>81265.139</td>\n",
       "    </tr>\n",
       "  </tbody>\n",
       "</table>\n",
       "</div>"
      ],
      "text/plain": [
       "Année                2003       2013\n",
       "Zone                                \n",
       "Afghanistan     23064.851  31731.688\n",
       "Afrique du Sud  47648.727  53767.396\n",
       "Albanie          3111.005   2918.978\n",
       "Algérie         32403.514  38338.562\n",
       "Allemagne       81686.495  81265.139"
      ]
     },
     "execution_count": 7,
     "metadata": {},
     "output_type": "execute_result"
    }
   ],
   "source": [
    "#Création de la table population\n",
    "pop = pd.read_csv('downloaded_csv/pop.csv')\n",
    "\n",
    "pop = pop[['Zone', 'Année', 'Valeur']]\n",
    "\n",
    "pop1 = pop.pivot_table(index='Zone', columns='Année', values='Valeur')\n",
    "\n",
    "pop1.head()"
   ]
  },
  {
   "cell_type": "code",
   "execution_count": 8,
   "metadata": {},
   "outputs": [
    {
     "data": {
      "text/plain": [
       "Année\n",
       "2003    4\n",
       "2013    3\n",
       "dtype: int64"
      ]
     },
     "execution_count": 8,
     "metadata": {},
     "output_type": "execute_result"
    }
   ],
   "source": [
    "#Vérification des valeurs nulles ou manquantes\n",
    "pop1.isnull().sum()"
   ]
  },
  {
   "cell_type": "code",
   "execution_count": 9,
   "metadata": {},
   "outputs": [
    {
     "data": {
      "text/html": [
       "<div>\n",
       "<style scoped>\n",
       "    .dataframe tbody tr th:only-of-type {\n",
       "        vertical-align: middle;\n",
       "    }\n",
       "\n",
       "    .dataframe tbody tr th {\n",
       "        vertical-align: top;\n",
       "    }\n",
       "\n",
       "    .dataframe thead th {\n",
       "        text-align: right;\n",
       "    }\n",
       "</style>\n",
       "<table border=\"1\" class=\"dataframe\">\n",
       "  <thead>\n",
       "    <tr style=\"text-align: right;\">\n",
       "      <th>Année</th>\n",
       "      <th>2003</th>\n",
       "      <th>2013</th>\n",
       "      <th>NaN 2003</th>\n",
       "    </tr>\n",
       "    <tr>\n",
       "      <th>Zone</th>\n",
       "      <th></th>\n",
       "      <th></th>\n",
       "      <th></th>\n",
       "    </tr>\n",
       "  </thead>\n",
       "  <tbody>\n",
       "    <tr>\n",
       "      <th>Monténégro</th>\n",
       "      <td>NaN</td>\n",
       "      <td>627.094</td>\n",
       "      <td>True</td>\n",
       "    </tr>\n",
       "    <tr>\n",
       "      <th>Serbie</th>\n",
       "      <td>NaN</td>\n",
       "      <td>8920.215</td>\n",
       "      <td>True</td>\n",
       "    </tr>\n",
       "    <tr>\n",
       "      <th>Soudan</th>\n",
       "      <td>NaN</td>\n",
       "      <td>36849.918</td>\n",
       "      <td>True</td>\n",
       "    </tr>\n",
       "    <tr>\n",
       "      <th>Soudan du Sud</th>\n",
       "      <td>NaN</td>\n",
       "      <td>11177.490</td>\n",
       "      <td>True</td>\n",
       "    </tr>\n",
       "  </tbody>\n",
       "</table>\n",
       "</div>"
      ],
      "text/plain": [
       "Année          2003       2013  NaN 2003\n",
       "Zone                                    \n",
       "Monténégro      NaN    627.094      True\n",
       "Serbie          NaN   8920.215      True\n",
       "Soudan          NaN  36849.918      True\n",
       "Soudan du Sud   NaN  11177.490      True"
      ]
     },
     "execution_count": 9,
     "metadata": {},
     "output_type": "execute_result"
    }
   ],
   "source": [
    "#Affichage des valeurs NaN de la colonne 2003\n",
    "pop1['NaN 2003'] = pd.isnull(pop1[2003])\n",
    "pop1[pop1['NaN 2003'] == True]"
   ]
  },
  {
   "cell_type": "code",
   "execution_count": 10,
   "metadata": {},
   "outputs": [
    {
     "data": {
      "text/html": [
       "<div>\n",
       "<style scoped>\n",
       "    .dataframe tbody tr th:only-of-type {\n",
       "        vertical-align: middle;\n",
       "    }\n",
       "\n",
       "    .dataframe tbody tr th {\n",
       "        vertical-align: top;\n",
       "    }\n",
       "\n",
       "    .dataframe thead th {\n",
       "        text-align: right;\n",
       "    }\n",
       "</style>\n",
       "<table border=\"1\" class=\"dataframe\">\n",
       "  <thead>\n",
       "    <tr style=\"text-align: right;\">\n",
       "      <th>Année</th>\n",
       "      <th>2003</th>\n",
       "      <th>2013</th>\n",
       "      <th>NaN 2003</th>\n",
       "      <th>NaN 2013</th>\n",
       "    </tr>\n",
       "    <tr>\n",
       "      <th>Zone</th>\n",
       "      <th></th>\n",
       "      <th></th>\n",
       "      <th></th>\n",
       "      <th></th>\n",
       "    </tr>\n",
       "  </thead>\n",
       "  <tbody>\n",
       "    <tr>\n",
       "      <th>Antilles néerlandaises (ex)</th>\n",
       "      <td>174.115</td>\n",
       "      <td>NaN</td>\n",
       "      <td>False</td>\n",
       "      <td>True</td>\n",
       "    </tr>\n",
       "    <tr>\n",
       "      <th>Serbie-et-Monténégro</th>\n",
       "      <td>9916.966</td>\n",
       "      <td>NaN</td>\n",
       "      <td>False</td>\n",
       "      <td>True</td>\n",
       "    </tr>\n",
       "    <tr>\n",
       "      <th>Soudan (ex)</th>\n",
       "      <td>36937.586</td>\n",
       "      <td>NaN</td>\n",
       "      <td>False</td>\n",
       "      <td>True</td>\n",
       "    </tr>\n",
       "  </tbody>\n",
       "</table>\n",
       "</div>"
      ],
      "text/plain": [
       "Année                             2003  2013  NaN 2003  NaN 2013\n",
       "Zone                                                            \n",
       "Antilles néerlandaises (ex)    174.115   NaN     False      True\n",
       "Serbie-et-Monténégro          9916.966   NaN     False      True\n",
       "Soudan (ex)                  36937.586   NaN     False      True"
      ]
     },
     "execution_count": 10,
     "metadata": {},
     "output_type": "execute_result"
    }
   ],
   "source": [
    "#Affichage des valeurs NaN de la colonne 2103\n",
    "pop1['NaN 2013'] = pd.isnull(pop1[2013])\n",
    "\n",
    "pop1[pop1['NaN 2013'] == True]"
   ]
  },
  {
   "cell_type": "markdown",
   "metadata": {},
   "source": [
    "<p style='color:#8677b2;text-align:center;font-weight:bold;'>\n",
    "    Choix d'affectation des valeurs manquantes:<br/>\n",
    "</p>"
   ]
  },
  {
   "cell_type": "markdown",
   "metadata": {},
   "source": [
    "<p style='color:#88cc8d;text-align:center'>\n",
    "    Les données manquantes sont remplacées par des valeurs issues de la Banque Mondiale<br/>\n",
    "    <a href=\"https://www.google.fr/publicdata/directory?hl=fr&dl=fr\">Source</a><br/> \n",
    "</p>"
   ]
  },
  {
   "cell_type": "code",
   "execution_count": 11,
   "metadata": {},
   "outputs": [
    {
     "data": {
      "text/plain": [
       "Année\n",
       "2003        0\n",
       "2013        0\n",
       "NaN 2003    0\n",
       "NaN 2013    0\n",
       "dtype: int64"
      ]
     },
     "execution_count": 11,
     "metadata": {},
     "output_type": "execute_result"
    }
   ],
   "source": [
    "#Affectation manuelle des valeurs manquantes\n",
    "pop1.loc['Monténégro', 2003] = 612.267\n",
    "pop1.loc['Serbie', 2003] = 7480.6\n",
    "pop1.loc['Soudan', 2003] = 29435.9\n",
    "pop1.loc['Soudan du Sud', 2003] = 7501.6\n",
    "\n",
    "pop1.loc['Antilles néerlandaises (ex)', 2013] = 190.429 #(Curaçao + Saint Martin (Néerlandaise))\n",
    "pop1.loc['Serbie-et-Monténégro', 2013] = 9547.309 #Serbie + Monténégro en 2013 de pop\n",
    "pop1.loc['Soudan (ex)', 2013] = 36849.9\n",
    "\n",
    "pop1.isnull().sum()"
   ]
  },
  {
   "cell_type": "code",
   "execution_count": 12,
   "metadata": {},
   "outputs": [
    {
     "data": {
      "text/html": [
       "<div>\n",
       "<style scoped>\n",
       "    .dataframe tbody tr th:only-of-type {\n",
       "        vertical-align: middle;\n",
       "    }\n",
       "\n",
       "    .dataframe tbody tr th {\n",
       "        vertical-align: top;\n",
       "    }\n",
       "\n",
       "    .dataframe thead th {\n",
       "        text-align: right;\n",
       "    }\n",
       "</style>\n",
       "<table border=\"1\" class=\"dataframe\">\n",
       "  <thead>\n",
       "    <tr style=\"text-align: right;\">\n",
       "      <th>Année</th>\n",
       "      <th>2003</th>\n",
       "      <th>2013</th>\n",
       "      <th>NaN 2003</th>\n",
       "      <th>NaN 2013</th>\n",
       "      <th>Evol pop</th>\n",
       "    </tr>\n",
       "    <tr>\n",
       "      <th>Zone</th>\n",
       "      <th></th>\n",
       "      <th></th>\n",
       "      <th></th>\n",
       "      <th></th>\n",
       "      <th></th>\n",
       "    </tr>\n",
       "  </thead>\n",
       "  <tbody>\n",
       "    <tr>\n",
       "      <th>Afghanistan</th>\n",
       "      <td>23064.851</td>\n",
       "      <td>31731.688</td>\n",
       "      <td>False</td>\n",
       "      <td>False</td>\n",
       "      <td>37.58</td>\n",
       "    </tr>\n",
       "    <tr>\n",
       "      <th>Afrique du Sud</th>\n",
       "      <td>47648.727</td>\n",
       "      <td>53767.396</td>\n",
       "      <td>False</td>\n",
       "      <td>False</td>\n",
       "      <td>12.84</td>\n",
       "    </tr>\n",
       "    <tr>\n",
       "      <th>Albanie</th>\n",
       "      <td>3111.005</td>\n",
       "      <td>2918.978</td>\n",
       "      <td>False</td>\n",
       "      <td>False</td>\n",
       "      <td>-6.17</td>\n",
       "    </tr>\n",
       "    <tr>\n",
       "      <th>Algérie</th>\n",
       "      <td>32403.514</td>\n",
       "      <td>38338.562</td>\n",
       "      <td>False</td>\n",
       "      <td>False</td>\n",
       "      <td>18.32</td>\n",
       "    </tr>\n",
       "    <tr>\n",
       "      <th>Allemagne</th>\n",
       "      <td>81686.495</td>\n",
       "      <td>81265.139</td>\n",
       "      <td>False</td>\n",
       "      <td>False</td>\n",
       "      <td>-0.52</td>\n",
       "    </tr>\n",
       "  </tbody>\n",
       "</table>\n",
       "</div>"
      ],
      "text/plain": [
       "Année                2003       2013  NaN 2003  NaN 2013  Evol pop\n",
       "Zone                                                              \n",
       "Afghanistan     23064.851  31731.688     False     False     37.58\n",
       "Afrique du Sud  47648.727  53767.396     False     False     12.84\n",
       "Albanie          3111.005   2918.978     False     False     -6.17\n",
       "Algérie         32403.514  38338.562     False     False     18.32\n",
       "Allemagne       81686.495  81265.139     False     False     -0.52"
      ]
     },
     "execution_count": 12,
     "metadata": {},
     "output_type": "execute_result"
    }
   ],
   "source": [
    "#Calcul de l'évolution de la population entre 2003 et 2013\n",
    "pop1['Evol pop'] = round((100 * (pop1[2013] - pop1[2003]) / pop1[2003]),2)\n",
    "\n",
    "pop1.head()"
   ]
  },
  {
   "cell_type": "code",
   "execution_count": 13,
   "metadata": {},
   "outputs": [
    {
     "data": {
      "text/html": [
       "<div>\n",
       "<style scoped>\n",
       "    .dataframe tbody tr th:only-of-type {\n",
       "        vertical-align: middle;\n",
       "    }\n",
       "\n",
       "    .dataframe tbody tr th {\n",
       "        vertical-align: top;\n",
       "    }\n",
       "\n",
       "    .dataframe thead th {\n",
       "        text-align: right;\n",
       "    }\n",
       "</style>\n",
       "<table border=\"1\" class=\"dataframe\">\n",
       "  <thead>\n",
       "    <tr style=\"text-align: right;\">\n",
       "      <th>Année</th>\n",
       "      <th>Zone</th>\n",
       "      <th>2003</th>\n",
       "      <th>2013</th>\n",
       "      <th>Evol pop</th>\n",
       "    </tr>\n",
       "  </thead>\n",
       "  <tbody>\n",
       "    <tr>\n",
       "      <th>0</th>\n",
       "      <td>Afghanistan</td>\n",
       "      <td>23064.851</td>\n",
       "      <td>31731.688</td>\n",
       "      <td>37.58</td>\n",
       "    </tr>\n",
       "    <tr>\n",
       "      <th>1</th>\n",
       "      <td>Afrique du Sud</td>\n",
       "      <td>47648.727</td>\n",
       "      <td>53767.396</td>\n",
       "      <td>12.84</td>\n",
       "    </tr>\n",
       "    <tr>\n",
       "      <th>2</th>\n",
       "      <td>Albanie</td>\n",
       "      <td>3111.005</td>\n",
       "      <td>2918.978</td>\n",
       "      <td>-6.17</td>\n",
       "    </tr>\n",
       "    <tr>\n",
       "      <th>3</th>\n",
       "      <td>Algérie</td>\n",
       "      <td>32403.514</td>\n",
       "      <td>38338.562</td>\n",
       "      <td>18.32</td>\n",
       "    </tr>\n",
       "    <tr>\n",
       "      <th>4</th>\n",
       "      <td>Allemagne</td>\n",
       "      <td>81686.495</td>\n",
       "      <td>81265.139</td>\n",
       "      <td>-0.52</td>\n",
       "    </tr>\n",
       "  </tbody>\n",
       "</table>\n",
       "</div>"
      ],
      "text/plain": [
       "Année            Zone       2003       2013  Evol pop\n",
       "0         Afghanistan  23064.851  31731.688     37.58\n",
       "1      Afrique du Sud  47648.727  53767.396     12.84\n",
       "2             Albanie   3111.005   2918.978     -6.17\n",
       "3             Algérie  32403.514  38338.562     18.32\n",
       "4           Allemagne  81686.495  81265.139     -0.52"
      ]
     },
     "execution_count": 13,
     "metadata": {},
     "output_type": "execute_result"
    }
   ],
   "source": [
    "#Suppression des colonnes superflues\n",
    "pop1.drop(columns=['NaN 2003', 'NaN 2013'], inplace=True)\n",
    "\n",
    "pop1.reset_index(inplace=True)\n",
    "\n",
    "pop1.head()"
   ]
  },
  {
   "cell_type": "markdown",
   "metadata": {},
   "source": [
    "<a id='dispo_alim'></a>\n",
    "<h3 style='color:#8677b2'>Travail sur les données alimentaires</h3>"
   ]
  },
  {
   "cell_type": "markdown",
   "metadata": {},
   "source": [
    "[Haut de page](#sommaire)"
   ]
  },
  {
   "cell_type": "markdown",
   "metadata": {},
   "source": [
    "<p style='color:#88cc8d;text-align:center'>\n",
    "    Bilans Alimentaires > Bilans Alimentaires<br/>\n",
    "    Tous les pays sauf \"Chine\" > Disponibilité alimentaire (Kcal/personne/jour) et Disponibilité de protéines en quantité (g/personne/jour) > Produits Animaux > 2013<br/>\n",
    "    <a href=\"http://www.fao.org/faostat/fr/#data\">Source F.A.O.</a><br/> \n",
    "</p>"
   ]
  },
  {
   "cell_type": "code",
   "execution_count": 14,
   "metadata": {},
   "outputs": [
    {
     "data": {
      "text/html": [
       "<div>\n",
       "<style scoped>\n",
       "    .dataframe tbody tr th:only-of-type {\n",
       "        vertical-align: middle;\n",
       "    }\n",
       "\n",
       "    .dataframe tbody tr th {\n",
       "        vertical-align: top;\n",
       "    }\n",
       "\n",
       "    .dataframe thead th {\n",
       "        text-align: right;\n",
       "    }\n",
       "</style>\n",
       "<table border=\"1\" class=\"dataframe\">\n",
       "  <thead>\n",
       "    <tr style=\"text-align: right;\">\n",
       "      <th>Élément</th>\n",
       "      <th>Pays</th>\n",
       "      <th>Disp alim Kcal Ani</th>\n",
       "      <th>Disp alim prot Ani</th>\n",
       "    </tr>\n",
       "  </thead>\n",
       "  <tbody>\n",
       "    <tr>\n",
       "      <th>0</th>\n",
       "      <td>Afghanistan</td>\n",
       "      <td>216.0</td>\n",
       "      <td>12.22</td>\n",
       "    </tr>\n",
       "    <tr>\n",
       "      <th>1</th>\n",
       "      <td>Afrique du Sud</td>\n",
       "      <td>488.0</td>\n",
       "      <td>36.38</td>\n",
       "    </tr>\n",
       "    <tr>\n",
       "      <th>2</th>\n",
       "      <td>Albanie</td>\n",
       "      <td>987.0</td>\n",
       "      <td>59.42</td>\n",
       "    </tr>\n",
       "    <tr>\n",
       "      <th>3</th>\n",
       "      <td>Algérie</td>\n",
       "      <td>379.0</td>\n",
       "      <td>24.99</td>\n",
       "    </tr>\n",
       "    <tr>\n",
       "      <th>4</th>\n",
       "      <td>Allemagne</td>\n",
       "      <td>1044.0</td>\n",
       "      <td>61.48</td>\n",
       "    </tr>\n",
       "  </tbody>\n",
       "</table>\n",
       "</div>"
      ],
      "text/plain": [
       "Élément            Pays  Disp alim Kcal Ani  Disp alim prot Ani\n",
       "0           Afghanistan               216.0               12.22\n",
       "1        Afrique du Sud               488.0               36.38\n",
       "2               Albanie               987.0               59.42\n",
       "3               Algérie               379.0               24.99\n",
       "4             Allemagne              1044.0               61.48"
      ]
     },
     "execution_count": 14,
     "metadata": {},
     "output_type": "execute_result"
    }
   ],
   "source": [
    "#Création de la table des disponibilités animales (Protéines et Calories)\n",
    "dispo_alim_ani = pd.read_csv('downloaded_csv/dispo_alim_ani.csv')\n",
    "\n",
    "dispo_alim_ani = dispo_alim_ani.pivot_table(index=['Pays', 'Produit'],\n",
    "                                   columns='Élément',\n",
    "                                   values='Valeur')\n",
    "\n",
    "dispo_alim_ani.reset_index(inplace=True)\n",
    "\n",
    "dispo_alim_ani.rename(columns={\"Disponibilité alimentaire (Kcal/personne/jour)\":\"Disp alim Kcal Ani\",\n",
    "                               \"Disponibilité de protéines en quantité (g/personne/jour)\":\"Disp alim prot Ani\"},\n",
    "                     inplace=True)\n",
    "\n",
    "dispo_alim_ani.drop(columns='Produit', inplace=True)\n",
    "\n",
    "dispo_alim_ani.head()"
   ]
  },
  {
   "cell_type": "markdown",
   "metadata": {},
   "source": [
    "<p style='color:#88cc8d;text-align:center'>\n",
    "    Bilans Alimentaires > Bilans Alimentaires<br/>\n",
    "    Tous les pays sauf \"Chine\" > Disponibilité alimentaire (Kcal/personne/jour) et Disponibilité de protéines en quantité (g/personne/jour) > Total General > 2013<br/>\n",
    "    <a href=\"http://www.fao.org/faostat/fr/#data\">Source F.A.O.</a><br/> \n",
    "</p>"
   ]
  },
  {
   "cell_type": "code",
   "execution_count": 15,
   "metadata": {},
   "outputs": [
    {
     "data": {
      "text/html": [
       "<div>\n",
       "<style scoped>\n",
       "    .dataframe tbody tr th:only-of-type {\n",
       "        vertical-align: middle;\n",
       "    }\n",
       "\n",
       "    .dataframe tbody tr th {\n",
       "        vertical-align: top;\n",
       "    }\n",
       "\n",
       "    .dataframe thead th {\n",
       "        text-align: right;\n",
       "    }\n",
       "</style>\n",
       "<table border=\"1\" class=\"dataframe\">\n",
       "  <thead>\n",
       "    <tr style=\"text-align: right;\">\n",
       "      <th>Élément</th>\n",
       "      <th>Pays</th>\n",
       "      <th>Disp alim Kcal Tot</th>\n",
       "      <th>Disp alim prot Tot</th>\n",
       "    </tr>\n",
       "  </thead>\n",
       "  <tbody>\n",
       "    <tr>\n",
       "      <th>0</th>\n",
       "      <td>Afghanistan</td>\n",
       "      <td>2090.0</td>\n",
       "      <td>58.25</td>\n",
       "    </tr>\n",
       "    <tr>\n",
       "      <th>1</th>\n",
       "      <td>Afrique du Sud</td>\n",
       "      <td>3022.0</td>\n",
       "      <td>85.33</td>\n",
       "    </tr>\n",
       "    <tr>\n",
       "      <th>2</th>\n",
       "      <td>Albanie</td>\n",
       "      <td>3193.0</td>\n",
       "      <td>111.42</td>\n",
       "    </tr>\n",
       "    <tr>\n",
       "      <th>3</th>\n",
       "      <td>Algérie</td>\n",
       "      <td>3296.0</td>\n",
       "      <td>91.96</td>\n",
       "    </tr>\n",
       "    <tr>\n",
       "      <th>4</th>\n",
       "      <td>Allemagne</td>\n",
       "      <td>3499.0</td>\n",
       "      <td>101.59</td>\n",
       "    </tr>\n",
       "  </tbody>\n",
       "</table>\n",
       "</div>"
      ],
      "text/plain": [
       "Élément            Pays  Disp alim Kcal Tot  Disp alim prot Tot\n",
       "0           Afghanistan              2090.0               58.25\n",
       "1        Afrique du Sud              3022.0               85.33\n",
       "2               Albanie              3193.0              111.42\n",
       "3               Algérie              3296.0               91.96\n",
       "4             Allemagne              3499.0              101.59"
      ]
     },
     "execution_count": 15,
     "metadata": {},
     "output_type": "execute_result"
    }
   ],
   "source": [
    "#Création de la table des disponibilités totales (Protéines et Calories)\n",
    "dispo_alim_gen = pd.read_csv('downloaded_csv/dispo_alim_gen.csv')\n",
    "\n",
    "dispo_alim_gen = dispo_alim_gen.pivot_table(index=['Pays'],\n",
    "                                           columns='Élément',\n",
    "                                           values='Valeur')\n",
    "\n",
    "dispo_alim_gen.rename(columns={\"Disponibilité alimentaire (Kcal/personne/jour)\":\"Disp alim Kcal Tot\",\n",
    "                               \"Disponibilité de protéines en quantité (g/personne/jour)\":\"Disp alim prot Tot\"},\n",
    "                     inplace=True)\n",
    "\n",
    "dispo_alim_gen.reset_index(inplace=True)\n",
    "\n",
    "dispo_alim_gen.head()"
   ]
  },
  {
   "cell_type": "code",
   "execution_count": 16,
   "metadata": {},
   "outputs": [],
   "source": [
    "#Jointure interne des tables de disponibilités\n",
    "dispo_alim1 = pd.merge(dispo_alim_gen, dispo_alim_ani, on='Pays', how='inner')"
   ]
  },
  {
   "cell_type": "code",
   "execution_count": 17,
   "metadata": {},
   "outputs": [],
   "source": [
    "#Jointure de la table des disponibilités et population\n",
    "dispo_alim2 = pd.merge(dispo_alim1, pop1, right_on='Zone', left_on='Pays', how='inner')\n",
    "\n",
    "dispo_alim2 = dispo_alim2.set_index('Pays')"
   ]
  },
  {
   "cell_type": "code",
   "execution_count": 18,
   "metadata": {},
   "outputs": [
    {
     "data": {
      "text/html": [
       "<div>\n",
       "<style scoped>\n",
       "    .dataframe tbody tr th:only-of-type {\n",
       "        vertical-align: middle;\n",
       "    }\n",
       "\n",
       "    .dataframe tbody tr th {\n",
       "        vertical-align: top;\n",
       "    }\n",
       "\n",
       "    .dataframe thead th {\n",
       "        text-align: right;\n",
       "    }\n",
       "</style>\n",
       "<table border=\"1\" class=\"dataframe\">\n",
       "  <thead>\n",
       "    <tr style=\"text-align: right;\">\n",
       "      <th></th>\n",
       "      <th>Disp alim Kcal Tot</th>\n",
       "      <th>Disp alim prot Tot</th>\n",
       "      <th>Disp alim Kcal Ani</th>\n",
       "      <th>Disp alim prot Ani</th>\n",
       "      <th>Zone</th>\n",
       "      <th>2003</th>\n",
       "      <th>2013</th>\n",
       "      <th>Evol pop</th>\n",
       "      <th>Ratio prot Ani</th>\n",
       "    </tr>\n",
       "    <tr>\n",
       "      <th>Pays</th>\n",
       "      <th></th>\n",
       "      <th></th>\n",
       "      <th></th>\n",
       "      <th></th>\n",
       "      <th></th>\n",
       "      <th></th>\n",
       "      <th></th>\n",
       "      <th></th>\n",
       "      <th></th>\n",
       "    </tr>\n",
       "  </thead>\n",
       "  <tbody>\n",
       "    <tr>\n",
       "      <th>Afghanistan</th>\n",
       "      <td>2090.0</td>\n",
       "      <td>58.25</td>\n",
       "      <td>216.0</td>\n",
       "      <td>12.22</td>\n",
       "      <td>Afghanistan</td>\n",
       "      <td>23064.851</td>\n",
       "      <td>31731.688</td>\n",
       "      <td>37.58</td>\n",
       "      <td>20.978541</td>\n",
       "    </tr>\n",
       "    <tr>\n",
       "      <th>Afrique du Sud</th>\n",
       "      <td>3022.0</td>\n",
       "      <td>85.33</td>\n",
       "      <td>488.0</td>\n",
       "      <td>36.38</td>\n",
       "      <td>Afrique du Sud</td>\n",
       "      <td>47648.727</td>\n",
       "      <td>53767.396</td>\n",
       "      <td>12.84</td>\n",
       "      <td>42.634478</td>\n",
       "    </tr>\n",
       "    <tr>\n",
       "      <th>Albanie</th>\n",
       "      <td>3193.0</td>\n",
       "      <td>111.42</td>\n",
       "      <td>987.0</td>\n",
       "      <td>59.42</td>\n",
       "      <td>Albanie</td>\n",
       "      <td>3111.005</td>\n",
       "      <td>2918.978</td>\n",
       "      <td>-6.17</td>\n",
       "      <td>53.329743</td>\n",
       "    </tr>\n",
       "    <tr>\n",
       "      <th>Algérie</th>\n",
       "      <td>3296.0</td>\n",
       "      <td>91.96</td>\n",
       "      <td>379.0</td>\n",
       "      <td>24.99</td>\n",
       "      <td>Algérie</td>\n",
       "      <td>32403.514</td>\n",
       "      <td>38338.562</td>\n",
       "      <td>18.32</td>\n",
       "      <td>27.174859</td>\n",
       "    </tr>\n",
       "    <tr>\n",
       "      <th>Allemagne</th>\n",
       "      <td>3499.0</td>\n",
       "      <td>101.59</td>\n",
       "      <td>1044.0</td>\n",
       "      <td>61.48</td>\n",
       "      <td>Allemagne</td>\n",
       "      <td>81686.495</td>\n",
       "      <td>81265.139</td>\n",
       "      <td>-0.52</td>\n",
       "      <td>60.517767</td>\n",
       "    </tr>\n",
       "  </tbody>\n",
       "</table>\n",
       "</div>"
      ],
      "text/plain": [
       "                Disp alim Kcal Tot  Disp alim prot Tot  Disp alim Kcal Ani  \\\n",
       "Pays                                                                         \n",
       "Afghanistan                 2090.0               58.25               216.0   \n",
       "Afrique du Sud              3022.0               85.33               488.0   \n",
       "Albanie                     3193.0              111.42               987.0   \n",
       "Algérie                     3296.0               91.96               379.0   \n",
       "Allemagne                   3499.0              101.59              1044.0   \n",
       "\n",
       "                Disp alim prot Ani            Zone       2003       2013  \\\n",
       "Pays                                                                       \n",
       "Afghanistan                  12.22     Afghanistan  23064.851  31731.688   \n",
       "Afrique du Sud               36.38  Afrique du Sud  47648.727  53767.396   \n",
       "Albanie                      59.42         Albanie   3111.005   2918.978   \n",
       "Algérie                      24.99         Algérie  32403.514  38338.562   \n",
       "Allemagne                    61.48       Allemagne  81686.495  81265.139   \n",
       "\n",
       "                Evol pop  Ratio prot Ani  \n",
       "Pays                                      \n",
       "Afghanistan        37.58       20.978541  \n",
       "Afrique du Sud     12.84       42.634478  \n",
       "Albanie            -6.17       53.329743  \n",
       "Algérie            18.32       27.174859  \n",
       "Allemagne          -0.52       60.517767  "
      ]
     },
     "execution_count": 18,
     "metadata": {},
     "output_type": "execute_result"
    }
   ],
   "source": [
    "#Calcul du ratio de la disponibilité en protéines d'origine animale sur la disponibilité totale en protéines\n",
    "dispo_alim2['Ratio prot Ani'] = 100 * dispo_alim2['Disp alim prot Ani'] / dispo_alim2['Disp alim prot Tot']\n",
    "\n",
    "dispo_alim2.head()"
   ]
  },
  {
   "cell_type": "code",
   "execution_count": 19,
   "metadata": {},
   "outputs": [
    {
     "data": {
      "text/html": [
       "<div>\n",
       "<style scoped>\n",
       "    .dataframe tbody tr th:only-of-type {\n",
       "        vertical-align: middle;\n",
       "    }\n",
       "\n",
       "    .dataframe tbody tr th {\n",
       "        vertical-align: top;\n",
       "    }\n",
       "\n",
       "    .dataframe thead th {\n",
       "        text-align: right;\n",
       "    }\n",
       "</style>\n",
       "<table border=\"1\" class=\"dataframe\">\n",
       "  <thead>\n",
       "    <tr style=\"text-align: right;\">\n",
       "      <th></th>\n",
       "      <th>Pays</th>\n",
       "      <th>2013</th>\n",
       "      <th>Evol pop</th>\n",
       "      <th>Ratio prot Ani</th>\n",
       "      <th>Disp alim prot Tot</th>\n",
       "      <th>Disp alim Kcal Tot</th>\n",
       "    </tr>\n",
       "  </thead>\n",
       "  <tbody>\n",
       "    <tr>\n",
       "      <th>0</th>\n",
       "      <td>Afghanistan</td>\n",
       "      <td>31731.688</td>\n",
       "      <td>37.58</td>\n",
       "      <td>20.978541</td>\n",
       "      <td>58.25</td>\n",
       "      <td>2090.0</td>\n",
       "    </tr>\n",
       "    <tr>\n",
       "      <th>1</th>\n",
       "      <td>Afrique du Sud</td>\n",
       "      <td>53767.396</td>\n",
       "      <td>12.84</td>\n",
       "      <td>42.634478</td>\n",
       "      <td>85.33</td>\n",
       "      <td>3022.0</td>\n",
       "    </tr>\n",
       "    <tr>\n",
       "      <th>2</th>\n",
       "      <td>Albanie</td>\n",
       "      <td>2918.978</td>\n",
       "      <td>-6.17</td>\n",
       "      <td>53.329743</td>\n",
       "      <td>111.42</td>\n",
       "      <td>3193.0</td>\n",
       "    </tr>\n",
       "    <tr>\n",
       "      <th>3</th>\n",
       "      <td>Algérie</td>\n",
       "      <td>38338.562</td>\n",
       "      <td>18.32</td>\n",
       "      <td>27.174859</td>\n",
       "      <td>91.96</td>\n",
       "      <td>3296.0</td>\n",
       "    </tr>\n",
       "    <tr>\n",
       "      <th>4</th>\n",
       "      <td>Allemagne</td>\n",
       "      <td>81265.139</td>\n",
       "      <td>-0.52</td>\n",
       "      <td>60.517767</td>\n",
       "      <td>101.59</td>\n",
       "      <td>3499.0</td>\n",
       "    </tr>\n",
       "  </tbody>\n",
       "</table>\n",
       "</div>"
      ],
      "text/plain": [
       "             Pays       2013  Evol pop  Ratio prot Ani  Disp alim prot Tot  \\\n",
       "0     Afghanistan  31731.688     37.58       20.978541               58.25   \n",
       "1  Afrique du Sud  53767.396     12.84       42.634478               85.33   \n",
       "2         Albanie   2918.978     -6.17       53.329743              111.42   \n",
       "3         Algérie  38338.562     18.32       27.174859               91.96   \n",
       "4       Allemagne  81265.139     -0.52       60.517767              101.59   \n",
       "\n",
       "   Disp alim Kcal Tot  \n",
       "0              2090.0  \n",
       "1              3022.0  \n",
       "2              3193.0  \n",
       "3              3296.0  \n",
       "4              3499.0  "
      ]
     },
     "execution_count": 19,
     "metadata": {},
     "output_type": "execute_result"
    }
   ],
   "source": [
    "#Suppression des colonnes superflues\n",
    "dispo_alim2 = dispo_alim2[[2013, 'Evol pop', 'Ratio prot Ani',\n",
    "                           'Disp alim prot Tot', 'Disp alim Kcal Tot']]\n",
    "\n",
    "dispo_alim2.reset_index(inplace=True)\n",
    "\n",
    "dispo_alim2.head()"
   ]
  },
  {
   "cell_type": "markdown",
   "metadata": {},
   "source": [
    "<a id='nouvelle_variable'></a>\n",
    "<h3 style='color:#8677b2'>Ajout de nouvelles variables</h3>"
   ]
  },
  {
   "cell_type": "markdown",
   "metadata": {},
   "source": [
    "[Haut de page](#sommaire)"
   ]
  },
  {
   "cell_type": "markdown",
   "metadata": {},
   "source": [
    "<p style='color:#88cc8d;text-align:center'>\n",
    "    Sécurité Alimentaires > Données de la sécurité alimentaire<br/>\n",
    "    Tous les pays sauf \"Chine\" > Valeur > PIB par habitant, ($ PPA internationnaux constants de 2011) > 2013/2012-2014<br/>\n",
    "    Unité: Dollar par habitant<br/>\n",
    "    <a href=\"http://www.fao.org/faostat/fr/#data\">Source F.A.O.</a><br/> \n",
    "</p>"
   ]
  },
  {
   "cell_type": "code",
   "execution_count": 20,
   "metadata": {},
   "outputs": [
    {
     "data": {
      "text/html": [
       "<div>\n",
       "<style scoped>\n",
       "    .dataframe tbody tr th:only-of-type {\n",
       "        vertical-align: middle;\n",
       "    }\n",
       "\n",
       "    .dataframe tbody tr th {\n",
       "        vertical-align: top;\n",
       "    }\n",
       "\n",
       "    .dataframe thead th {\n",
       "        text-align: right;\n",
       "    }\n",
       "</style>\n",
       "<table border=\"1\" class=\"dataframe\">\n",
       "  <thead>\n",
       "    <tr style=\"text-align: right;\">\n",
       "      <th></th>\n",
       "      <th>Pays</th>\n",
       "      <th>2013</th>\n",
       "      <th>Evol pop</th>\n",
       "      <th>Ratio prot Ani</th>\n",
       "      <th>Disp alim prot Tot</th>\n",
       "      <th>Disp alim Kcal Tot</th>\n",
       "      <th>PIB/Hab</th>\n",
       "    </tr>\n",
       "  </thead>\n",
       "  <tbody>\n",
       "    <tr>\n",
       "      <th>0</th>\n",
       "      <td>Afghanistan</td>\n",
       "      <td>31731.688</td>\n",
       "      <td>37.58</td>\n",
       "      <td>20.978541</td>\n",
       "      <td>58.25</td>\n",
       "      <td>2090.0</td>\n",
       "      <td>1848.7</td>\n",
       "    </tr>\n",
       "    <tr>\n",
       "      <th>1</th>\n",
       "      <td>Afrique du Sud</td>\n",
       "      <td>53767.396</td>\n",
       "      <td>12.84</td>\n",
       "      <td>42.634478</td>\n",
       "      <td>85.33</td>\n",
       "      <td>3022.0</td>\n",
       "      <td>12339.7</td>\n",
       "    </tr>\n",
       "    <tr>\n",
       "      <th>2</th>\n",
       "      <td>Albanie</td>\n",
       "      <td>2918.978</td>\n",
       "      <td>-6.17</td>\n",
       "      <td>53.329743</td>\n",
       "      <td>111.42</td>\n",
       "      <td>3193.0</td>\n",
       "      <td>10492.8</td>\n",
       "    </tr>\n",
       "    <tr>\n",
       "      <th>3</th>\n",
       "      <td>Algérie</td>\n",
       "      <td>38338.562</td>\n",
       "      <td>18.32</td>\n",
       "      <td>27.174859</td>\n",
       "      <td>91.96</td>\n",
       "      <td>3296.0</td>\n",
       "      <td>13253.6</td>\n",
       "    </tr>\n",
       "    <tr>\n",
       "      <th>4</th>\n",
       "      <td>Allemagne</td>\n",
       "      <td>81265.139</td>\n",
       "      <td>-0.52</td>\n",
       "      <td>60.517767</td>\n",
       "      <td>101.59</td>\n",
       "      <td>3499.0</td>\n",
       "      <td>42914.5</td>\n",
       "    </tr>\n",
       "  </tbody>\n",
       "</table>\n",
       "</div>"
      ],
      "text/plain": [
       "             Pays       2013  Evol pop  Ratio prot Ani  Disp alim prot Tot  \\\n",
       "0     Afghanistan  31731.688     37.58       20.978541               58.25   \n",
       "1  Afrique du Sud  53767.396     12.84       42.634478               85.33   \n",
       "2         Albanie   2918.978     -6.17       53.329743              111.42   \n",
       "3         Algérie  38338.562     18.32       27.174859               91.96   \n",
       "4       Allemagne  81265.139     -0.52       60.517767              101.59   \n",
       "\n",
       "   Disp alim Kcal Tot  PIB/Hab  \n",
       "0              2090.0   1848.7  \n",
       "1              3022.0  12339.7  \n",
       "2              3193.0  10492.8  \n",
       "3              3296.0  13253.6  \n",
       "4              3499.0  42914.5  "
      ]
     },
     "execution_count": 20,
     "metadata": {},
     "output_type": "execute_result"
    }
   ],
   "source": [
    "#Création de la table PIB/Hab\n",
    "pib_hab = pd.read_csv('downloaded_csv/PIB_hab.csv')\n",
    "\n",
    "pib_hab = pib_hab.pivot_table(index=['Zone'],\n",
    "                              columns='Produit',\n",
    "                              values='Valeur')\n",
    "\n",
    "dispo_alim4 = pd.merge(dispo_alim2, pib_hab, left_on='Pays', right_on='Zone', how='inner')\n",
    "\n",
    "dispo_alim4.rename(columns={'PIB par habitant, ($ PPA internationaux constants de 2011)':'PIB/Hab'},\n",
    "                  inplace=True)\n",
    "\n",
    "dispo_alim4.head()"
   ]
  },
  {
   "cell_type": "markdown",
   "metadata": {},
   "source": [
    "<p style='color:#88cc8d;text-align:center'>\n",
    "    Sécurité Alimentaires > Données de la sécurité alimentaire<br/>\n",
    "    Tous les pays sauf \"Chine\" > Valeur > Stabilité politique et absence de violence/terrorisme (indice) > 2013 2012-2014<br/>\n",
    "    <a href=\"http://www.fao.org/faostat/fr/#data\">Source F.A.O.</a><br/> \n",
    "</p>"
   ]
  },
  {
   "cell_type": "code",
   "execution_count": 21,
   "metadata": {},
   "outputs": [
    {
     "data": {
      "text/html": [
       "<div>\n",
       "<style scoped>\n",
       "    .dataframe tbody tr th:only-of-type {\n",
       "        vertical-align: middle;\n",
       "    }\n",
       "\n",
       "    .dataframe tbody tr th {\n",
       "        vertical-align: top;\n",
       "    }\n",
       "\n",
       "    .dataframe thead th {\n",
       "        text-align: right;\n",
       "    }\n",
       "</style>\n",
       "<table border=\"1\" class=\"dataframe\">\n",
       "  <thead>\n",
       "    <tr style=\"text-align: right;\">\n",
       "      <th></th>\n",
       "      <th>2013</th>\n",
       "      <th>Evol pop</th>\n",
       "      <th>Ratio prot Ani</th>\n",
       "      <th>Disp alim prot Tot</th>\n",
       "      <th>Disp alim Kcal Tot</th>\n",
       "      <th>PIB/Hab</th>\n",
       "      <th>Ind Stab Pol</th>\n",
       "    </tr>\n",
       "  </thead>\n",
       "  <tbody>\n",
       "    <tr>\n",
       "      <th>count</th>\n",
       "      <td>1.670000e+02</td>\n",
       "      <td>167.000000</td>\n",
       "      <td>167.000000</td>\n",
       "      <td>167.000000</td>\n",
       "      <td>167.000000</td>\n",
       "      <td>167.000000</td>\n",
       "      <td>167.000000</td>\n",
       "    </tr>\n",
       "    <tr>\n",
       "      <th>mean</th>\n",
       "      <td>4.181029e+04</td>\n",
       "      <td>16.599102</td>\n",
       "      <td>42.821835</td>\n",
       "      <td>81.525269</td>\n",
       "      <td>2854.233533</td>\n",
       "      <td>17849.819760</td>\n",
       "      <td>-0.066647</td>\n",
       "    </tr>\n",
       "    <tr>\n",
       "      <th>std</th>\n",
       "      <td>1.496409e+05</td>\n",
       "      <td>17.052148</td>\n",
       "      <td>16.097402</td>\n",
       "      <td>20.119492</td>\n",
       "      <td>437.498268</td>\n",
       "      <td>19337.371087</td>\n",
       "      <td>0.923066</td>\n",
       "    </tr>\n",
       "    <tr>\n",
       "      <th>min</th>\n",
       "      <td>5.316900e+01</td>\n",
       "      <td>-12.210000</td>\n",
       "      <td>9.839817</td>\n",
       "      <td>37.660000</td>\n",
       "      <td>1879.000000</td>\n",
       "      <td>593.100000</td>\n",
       "      <td>-2.600000</td>\n",
       "    </tr>\n",
       "    <tr>\n",
       "      <th>25%</th>\n",
       "      <td>2.881308e+03</td>\n",
       "      <td>5.070000</td>\n",
       "      <td>28.628782</td>\n",
       "      <td>64.405000</td>\n",
       "      <td>2534.000000</td>\n",
       "      <td>4317.750000</td>\n",
       "      <td>-0.665000</td>\n",
       "    </tr>\n",
       "    <tr>\n",
       "      <th>50%</th>\n",
       "      <td>9.385293e+03</td>\n",
       "      <td>13.570000</td>\n",
       "      <td>45.084078</td>\n",
       "      <td>81.580000</td>\n",
       "      <td>2830.000000</td>\n",
       "      <td>11877.800000</td>\n",
       "      <td>0.000000</td>\n",
       "    </tr>\n",
       "    <tr>\n",
       "      <th>75%</th>\n",
       "      <td>2.998211e+04</td>\n",
       "      <td>25.165000</td>\n",
       "      <td>56.390208</td>\n",
       "      <td>95.590000</td>\n",
       "      <td>3210.500000</td>\n",
       "      <td>24445.000000</td>\n",
       "      <td>0.755000</td>\n",
       "    </tr>\n",
       "    <tr>\n",
       "      <th>max</th>\n",
       "      <td>1.382793e+06</td>\n",
       "      <td>140.680000</td>\n",
       "      <td>73.084069</td>\n",
       "      <td>133.540000</td>\n",
       "      <td>3768.000000</td>\n",
       "      <td>135319.000000</td>\n",
       "      <td>1.450000</td>\n",
       "    </tr>\n",
       "  </tbody>\n",
       "</table>\n",
       "</div>"
      ],
      "text/plain": [
       "               2013    Evol pop  Ratio prot Ani  Disp alim prot Tot  \\\n",
       "count  1.670000e+02  167.000000      167.000000          167.000000   \n",
       "mean   4.181029e+04   16.599102       42.821835           81.525269   \n",
       "std    1.496409e+05   17.052148       16.097402           20.119492   \n",
       "min    5.316900e+01  -12.210000        9.839817           37.660000   \n",
       "25%    2.881308e+03    5.070000       28.628782           64.405000   \n",
       "50%    9.385293e+03   13.570000       45.084078           81.580000   \n",
       "75%    2.998211e+04   25.165000       56.390208           95.590000   \n",
       "max    1.382793e+06  140.680000       73.084069          133.540000   \n",
       "\n",
       "       Disp alim Kcal Tot        PIB/Hab  Ind Stab Pol  \n",
       "count          167.000000     167.000000    167.000000  \n",
       "mean          2854.233533   17849.819760     -0.066647  \n",
       "std            437.498268   19337.371087      0.923066  \n",
       "min           1879.000000     593.100000     -2.600000  \n",
       "25%           2534.000000    4317.750000     -0.665000  \n",
       "50%           2830.000000   11877.800000      0.000000  \n",
       "75%           3210.500000   24445.000000      0.755000  \n",
       "max           3768.000000  135319.000000      1.450000  "
      ]
     },
     "execution_count": 21,
     "metadata": {},
     "output_type": "execute_result"
    }
   ],
   "source": [
    "#Création de la table d'indices de stabilité politique\n",
    "stab_pol = pd.read_csv('downloaded_csv/stab_pol.csv')\n",
    "\n",
    "stab_pol = stab_pol.pivot_table(index=['Zone'],\n",
    "                              columns='Produit',\n",
    "                              values='Valeur')\n",
    "\n",
    "dispo_alim5a = pd.merge(dispo_alim4, stab_pol, left_on='Pays', right_on='Zone', how='inner')\n",
    "\n",
    "dispo_alim5a.rename(columns={'Stabilité politique et absence de violence/terrorisme (indice)':'Ind Stab Pol'},\n",
    "                  inplace=True)\n",
    "\n",
    "dispo_alim5a.set_index('Pays', inplace=True)\n",
    "\n",
    "\n",
    "dispo_alim5a.describe(include='all')"
   ]
  },
  {
   "cell_type": "code",
   "execution_count": 22,
   "metadata": {},
   "outputs": [
    {
     "data": {
      "text/html": [
       "<div>\n",
       "<style scoped>\n",
       "    .dataframe tbody tr th:only-of-type {\n",
       "        vertical-align: middle;\n",
       "    }\n",
       "\n",
       "    .dataframe tbody tr th {\n",
       "        vertical-align: top;\n",
       "    }\n",
       "\n",
       "    .dataframe thead th {\n",
       "        text-align: right;\n",
       "    }\n",
       "</style>\n",
       "<table border=\"1\" class=\"dataframe\">\n",
       "  <thead>\n",
       "    <tr style=\"text-align: right;\">\n",
       "      <th></th>\n",
       "      <th>2013</th>\n",
       "      <th>Evol pop</th>\n",
       "      <th>Ratio prot Ani</th>\n",
       "      <th>Disp alim prot Tot</th>\n",
       "      <th>Disp alim Kcal Tot</th>\n",
       "      <th>PIB/Hab</th>\n",
       "      <th>Ind Stab Pol</th>\n",
       "    </tr>\n",
       "    <tr>\n",
       "      <th>Pays</th>\n",
       "      <th></th>\n",
       "      <th></th>\n",
       "      <th></th>\n",
       "      <th></th>\n",
       "      <th></th>\n",
       "      <th></th>\n",
       "      <th></th>\n",
       "    </tr>\n",
       "  </thead>\n",
       "  <tbody>\n",
       "    <tr>\n",
       "      <th>Afghanistan</th>\n",
       "      <td>31731.688</td>\n",
       "      <td>37.58</td>\n",
       "      <td>20.978541</td>\n",
       "      <td>58.25</td>\n",
       "      <td>2090.0</td>\n",
       "      <td>1848.7</td>\n",
       "      <td>-2.52</td>\n",
       "    </tr>\n",
       "    <tr>\n",
       "      <th>Afrique du Sud</th>\n",
       "      <td>53767.396</td>\n",
       "      <td>12.84</td>\n",
       "      <td>42.634478</td>\n",
       "      <td>85.33</td>\n",
       "      <td>3022.0</td>\n",
       "      <td>12339.7</td>\n",
       "      <td>-0.05</td>\n",
       "    </tr>\n",
       "    <tr>\n",
       "      <th>Albanie</th>\n",
       "      <td>2918.978</td>\n",
       "      <td>-6.17</td>\n",
       "      <td>53.329743</td>\n",
       "      <td>111.42</td>\n",
       "      <td>3193.0</td>\n",
       "      <td>10492.8</td>\n",
       "      <td>0.09</td>\n",
       "    </tr>\n",
       "    <tr>\n",
       "      <th>Algérie</th>\n",
       "      <td>38338.562</td>\n",
       "      <td>18.32</td>\n",
       "      <td>27.174859</td>\n",
       "      <td>91.96</td>\n",
       "      <td>3296.0</td>\n",
       "      <td>13253.6</td>\n",
       "      <td>-1.20</td>\n",
       "    </tr>\n",
       "    <tr>\n",
       "      <th>Allemagne</th>\n",
       "      <td>81265.139</td>\n",
       "      <td>-0.52</td>\n",
       "      <td>60.517767</td>\n",
       "      <td>101.59</td>\n",
       "      <td>3499.0</td>\n",
       "      <td>42914.5</td>\n",
       "      <td>0.93</td>\n",
       "    </tr>\n",
       "  </tbody>\n",
       "</table>\n",
       "</div>"
      ],
      "text/plain": [
       "                     2013  Evol pop  Ratio prot Ani  Disp alim prot Tot  \\\n",
       "Pays                                                                      \n",
       "Afghanistan     31731.688     37.58       20.978541               58.25   \n",
       "Afrique du Sud  53767.396     12.84       42.634478               85.33   \n",
       "Albanie          2918.978     -6.17       53.329743              111.42   \n",
       "Algérie         38338.562     18.32       27.174859               91.96   \n",
       "Allemagne       81265.139     -0.52       60.517767              101.59   \n",
       "\n",
       "                Disp alim Kcal Tot  PIB/Hab  Ind Stab Pol  \n",
       "Pays                                                       \n",
       "Afghanistan                 2090.0   1848.7         -2.52  \n",
       "Afrique du Sud              3022.0  12339.7         -0.05  \n",
       "Albanie                     3193.0  10492.8          0.09  \n",
       "Algérie                     3296.0  13253.6         -1.20  \n",
       "Allemagne                   3499.0  42914.5          0.93  "
      ]
     },
     "execution_count": 22,
     "metadata": {},
     "output_type": "execute_result"
    }
   ],
   "source": [
    "dispo_alim5a.head()"
   ]
  },
  {
   "cell_type": "markdown",
   "metadata": {},
   "source": [
    "<p style='color:#8677b2;text-align:center;font-weight:bold;'>\n",
    "    Choix d'affectation des valeurs manquantes:<br/>\n",
    "</p>"
   ]
  },
  {
   "cell_type": "markdown",
   "metadata": {},
   "source": [
    "<p style='color:#88cc8d;text-align:center'>\n",
    "    Toutes les jointure sont internes.<br/>\n",
    "    Les pays n'ayant pas de données disponibles ont été considérés \"à risques\".<br/>\n",
    "    Il en sera de même pour le reste de l'étude.<br/>\n",
    "</p>"
   ]
  },
  {
   "cell_type": "code",
   "execution_count": 23,
   "metadata": {},
   "outputs": [
    {
     "data": {
      "text/plain": [
       "(233, 167)"
      ]
     },
     "execution_count": 23,
     "metadata": {},
     "output_type": "execute_result"
    }
   ],
   "source": [
    "#Longueur des tables initiale et finale\n",
    "len(pop1), len(dispo_alim5a)"
   ]
  },
  {
   "cell_type": "code",
   "execution_count": 24,
   "metadata": {},
   "outputs": [],
   "source": [
    "#Création de la table des pays exclus de l'analyse\n",
    "pop1bis = pop1.set_index('Zone')\n",
    "idx1 = pop1bis.index\n",
    "\n",
    "idx2 = dispo_alim5a.index\n",
    "\n",
    "diff = idx1.difference(idx2)\n",
    "diff2 = idx2.difference(idx1)\n",
    "\n",
    "pop1bis['exclu'] = pop1bis.index.isin(diff)\n",
    "pays_exclus = pop1bis[pop1bis['exclu'] == True]"
   ]
  },
  {
   "cell_type": "code",
   "execution_count": 25,
   "metadata": {},
   "outputs": [
    {
     "data": {
      "text/html": [
       "<div>\n",
       "<style scoped>\n",
       "    .dataframe tbody tr th:only-of-type {\n",
       "        vertical-align: middle;\n",
       "    }\n",
       "\n",
       "    .dataframe tbody tr th {\n",
       "        vertical-align: top;\n",
       "    }\n",
       "\n",
       "    .dataframe thead th {\n",
       "        text-align: right;\n",
       "    }\n",
       "</style>\n",
       "<table border=\"1\" class=\"dataframe\">\n",
       "  <thead>\n",
       "    <tr style=\"text-align: right;\">\n",
       "      <th>Année</th>\n",
       "      <th>2003</th>\n",
       "      <th>2013</th>\n",
       "      <th>Evol pop</th>\n",
       "      <th>exclu</th>\n",
       "    </tr>\n",
       "  </thead>\n",
       "  <tbody>\n",
       "    <tr>\n",
       "      <th>count</th>\n",
       "      <td>66.000000</td>\n",
       "      <td>66.000000</td>\n",
       "      <td>66.000000</td>\n",
       "      <td>66</td>\n",
       "    </tr>\n",
       "    <tr>\n",
       "      <th>unique</th>\n",
       "      <td>NaN</td>\n",
       "      <td>NaN</td>\n",
       "      <td>NaN</td>\n",
       "      <td>1</td>\n",
       "    </tr>\n",
       "    <tr>\n",
       "      <th>top</th>\n",
       "      <td>NaN</td>\n",
       "      <td>NaN</td>\n",
       "      <td>NaN</td>\n",
       "      <td>True</td>\n",
       "    </tr>\n",
       "    <tr>\n",
       "      <th>freq</th>\n",
       "      <td>NaN</td>\n",
       "      <td>NaN</td>\n",
       "      <td>NaN</td>\n",
       "      <td>66</td>\n",
       "    </tr>\n",
       "    <tr>\n",
       "      <th>mean</th>\n",
       "      <td>3553.866182</td>\n",
       "      <td>4204.250864</td>\n",
       "      <td>15.820455</td>\n",
       "      <td>NaN</td>\n",
       "    </tr>\n",
       "    <tr>\n",
       "      <th>std</th>\n",
       "      <td>8846.524661</td>\n",
       "      <td>10845.946628</td>\n",
       "      <td>31.494921</td>\n",
       "      <td>NaN</td>\n",
       "    </tr>\n",
       "    <tr>\n",
       "      <th>min</th>\n",
       "      <td>0.798000</td>\n",
       "      <td>0.801000</td>\n",
       "      <td>-19.850000</td>\n",
       "      <td>NaN</td>\n",
       "    </tr>\n",
       "    <tr>\n",
       "      <th>25%</th>\n",
       "      <td>32.023250</td>\n",
       "      <td>34.581750</td>\n",
       "      <td>0.610000</td>\n",
       "      <td>NaN</td>\n",
       "    </tr>\n",
       "    <tr>\n",
       "      <th>50%</th>\n",
       "      <td>154.876000</td>\n",
       "      <td>161.277500</td>\n",
       "      <td>9.665000</td>\n",
       "      <td>NaN</td>\n",
       "    </tr>\n",
       "    <tr>\n",
       "      <th>75%</th>\n",
       "      <td>1684.579000</td>\n",
       "      <td>2300.008250</td>\n",
       "      <td>25.725000</td>\n",
       "      <td>NaN</td>\n",
       "    </tr>\n",
       "    <tr>\n",
       "      <th>max</th>\n",
       "      <td>51390.033000</td>\n",
       "      <td>71316.033000</td>\n",
       "      <td>226.830000</td>\n",
       "      <td>NaN</td>\n",
       "    </tr>\n",
       "  </tbody>\n",
       "</table>\n",
       "</div>"
      ],
      "text/plain": [
       "Année           2003          2013    Evol pop exclu\n",
       "count      66.000000     66.000000   66.000000    66\n",
       "unique           NaN           NaN         NaN     1\n",
       "top              NaN           NaN         NaN  True\n",
       "freq             NaN           NaN         NaN    66\n",
       "mean     3553.866182   4204.250864   15.820455   NaN\n",
       "std      8846.524661  10845.946628   31.494921   NaN\n",
       "min         0.798000      0.801000  -19.850000   NaN\n",
       "25%        32.023250     34.581750    0.610000   NaN\n",
       "50%       154.876000    161.277500    9.665000   NaN\n",
       "75%      1684.579000   2300.008250   25.725000   NaN\n",
       "max     51390.033000  71316.033000  226.830000   NaN"
      ]
     },
     "execution_count": 25,
     "metadata": {},
     "output_type": "execute_result"
    }
   ],
   "source": [
    "#Description des pays exclus\n",
    "pays_exclus.describe(include='all')"
   ]
  },
  {
   "cell_type": "code",
   "execution_count": 26,
   "metadata": {},
   "outputs": [
    {
     "data": {
      "text/html": [
       "<div>\n",
       "<style scoped>\n",
       "    .dataframe tbody tr th:only-of-type {\n",
       "        vertical-align: middle;\n",
       "    }\n",
       "\n",
       "    .dataframe tbody tr th {\n",
       "        vertical-align: top;\n",
       "    }\n",
       "\n",
       "    .dataframe thead th {\n",
       "        text-align: right;\n",
       "    }\n",
       "</style>\n",
       "<table border=\"1\" class=\"dataframe\">\n",
       "  <thead>\n",
       "    <tr style=\"text-align: right;\">\n",
       "      <th>Année</th>\n",
       "      <th>2003</th>\n",
       "      <th>2013</th>\n",
       "      <th>Evol pop</th>\n",
       "      <th>exclu</th>\n",
       "    </tr>\n",
       "    <tr>\n",
       "      <th>Zone</th>\n",
       "      <th></th>\n",
       "      <th></th>\n",
       "      <th></th>\n",
       "      <th></th>\n",
       "    </tr>\n",
       "  </thead>\n",
       "  <tbody>\n",
       "    <tr>\n",
       "      <th>République démocratique du Congo</th>\n",
       "      <td>51390.033</td>\n",
       "      <td>71316.033</td>\n",
       "      <td>38.77</td>\n",
       "      <td>True</td>\n",
       "    </tr>\n",
       "    <tr>\n",
       "      <th>Soudan (ex)</th>\n",
       "      <td>36937.586</td>\n",
       "      <td>36849.900</td>\n",
       "      <td>-0.24</td>\n",
       "      <td>True</td>\n",
       "    </tr>\n",
       "    <tr>\n",
       "      <th>République populaire démocratique de Corée</th>\n",
       "      <td>23538.540</td>\n",
       "      <td>24985.976</td>\n",
       "      <td>6.15</td>\n",
       "      <td>True</td>\n",
       "    </tr>\n",
       "    <tr>\n",
       "      <th>Chine, Taiwan Province de</th>\n",
       "      <td>22306.338</td>\n",
       "      <td>23339.858</td>\n",
       "      <td>4.63</td>\n",
       "      <td>True</td>\n",
       "    </tr>\n",
       "    <tr>\n",
       "      <th>République arabe syrienne</th>\n",
       "      <td>17415.266</td>\n",
       "      <td>19809.141</td>\n",
       "      <td>13.75</td>\n",
       "      <td>True</td>\n",
       "    </tr>\n",
       "    <tr>\n",
       "      <th>Somalie</th>\n",
       "      <td>9836.397</td>\n",
       "      <td>13132.349</td>\n",
       "      <td>33.51</td>\n",
       "      <td>True</td>\n",
       "    </tr>\n",
       "    <tr>\n",
       "      <th>Cuba</th>\n",
       "      <td>11244.885</td>\n",
       "      <td>11412.167</td>\n",
       "      <td>1.49</td>\n",
       "      <td>True</td>\n",
       "    </tr>\n",
       "    <tr>\n",
       "      <th>Soudan du Sud</th>\n",
       "      <td>7501.600</td>\n",
       "      <td>11177.490</td>\n",
       "      <td>49.00</td>\n",
       "      <td>True</td>\n",
       "    </tr>\n",
       "    <tr>\n",
       "      <th>Burundi</th>\n",
       "      <td>6953.113</td>\n",
       "      <td>9600.186</td>\n",
       "      <td>38.07</td>\n",
       "      <td>True</td>\n",
       "    </tr>\n",
       "    <tr>\n",
       "      <th>Serbie-et-Monténégro</th>\n",
       "      <td>9916.966</td>\n",
       "      <td>9547.309</td>\n",
       "      <td>-3.73</td>\n",
       "      <td>True</td>\n",
       "    </tr>\n",
       "    <tr>\n",
       "      <th>Papouasie-Nouvelle-Guinée</th>\n",
       "      <td>6010.724</td>\n",
       "      <td>7592.865</td>\n",
       "      <td>26.32</td>\n",
       "      <td>True</td>\n",
       "    </tr>\n",
       "    <tr>\n",
       "      <th>Libye</th>\n",
       "      <td>5615.952</td>\n",
       "      <td>6195.970</td>\n",
       "      <td>10.33</td>\n",
       "      <td>True</td>\n",
       "    </tr>\n",
       "    <tr>\n",
       "      <th>Singapour</th>\n",
       "      <td>4249.295</td>\n",
       "      <td>5360.837</td>\n",
       "      <td>26.16</td>\n",
       "      <td>True</td>\n",
       "    </tr>\n",
       "    <tr>\n",
       "      <th>Érythrée</th>\n",
       "      <td>3738.265</td>\n",
       "      <td>4650.998</td>\n",
       "      <td>24.42</td>\n",
       "      <td>True</td>\n",
       "    </tr>\n",
       "    <tr>\n",
       "      <th>Territoire palestinien occupé</th>\n",
       "      <td>3440.799</td>\n",
       "      <td>4414.644</td>\n",
       "      <td>28.30</td>\n",
       "      <td>True</td>\n",
       "    </tr>\n",
       "  </tbody>\n",
       "</table>\n",
       "</div>"
      ],
      "text/plain": [
       "Année                                            2003       2013  Evol pop  \\\n",
       "Zone                                                                         \n",
       "République démocratique du Congo            51390.033  71316.033     38.77   \n",
       "Soudan (ex)                                 36937.586  36849.900     -0.24   \n",
       "République populaire démocratique de Corée  23538.540  24985.976      6.15   \n",
       "Chine, Taiwan Province de                   22306.338  23339.858      4.63   \n",
       "République arabe syrienne                   17415.266  19809.141     13.75   \n",
       "Somalie                                      9836.397  13132.349     33.51   \n",
       "Cuba                                        11244.885  11412.167      1.49   \n",
       "Soudan du Sud                                7501.600  11177.490     49.00   \n",
       "Burundi                                      6953.113   9600.186     38.07   \n",
       "Serbie-et-Monténégro                         9916.966   9547.309     -3.73   \n",
       "Papouasie-Nouvelle-Guinée                    6010.724   7592.865     26.32   \n",
       "Libye                                        5615.952   6195.970     10.33   \n",
       "Singapour                                    4249.295   5360.837     26.16   \n",
       "Érythrée                                     3738.265   4650.998     24.42   \n",
       "Territoire palestinien occupé                3440.799   4414.644     28.30   \n",
       "\n",
       "Année                                       exclu  \n",
       "Zone                                               \n",
       "République démocratique du Congo             True  \n",
       "Soudan (ex)                                  True  \n",
       "République populaire démocratique de Corée   True  \n",
       "Chine, Taiwan Province de                    True  \n",
       "République arabe syrienne                    True  \n",
       "Somalie                                      True  \n",
       "Cuba                                         True  \n",
       "Soudan du Sud                                True  \n",
       "Burundi                                      True  \n",
       "Serbie-et-Monténégro                         True  \n",
       "Papouasie-Nouvelle-Guinée                    True  \n",
       "Libye                                        True  \n",
       "Singapour                                    True  \n",
       "Érythrée                                     True  \n",
       "Territoire palestinien occupé                True  "
      ]
     },
     "execution_count": 26,
     "metadata": {},
     "output_type": "execute_result"
    }
   ],
   "source": [
    "#Liste des 10 plus gros pays exclus\n",
    "pays_exclus.sort_values(by = 2013, ascending=False).head(15)"
   ]
  },
  {
   "cell_type": "code",
   "execution_count": 27,
   "metadata": {},
   "outputs": [],
   "source": [
    "#Sauvegarde des pays eclus de l'analyse\n",
    "pays_exclus.to_csv('created_csv/pays_exclus.csv')"
   ]
  },
  {
   "cell_type": "markdown",
   "metadata": {},
   "source": [
    "## Travail d'analyse"
   ]
  },
  {
   "cell_type": "markdown",
   "metadata": {},
   "source": [
    "<a id='acp'></a>\n",
    "<h3 style='color:#8677b2'>Analyse en Composantes Principales et Clustering</h3>"
   ]
  },
  {
   "cell_type": "markdown",
   "metadata": {},
   "source": [
    "[Haut de page](#sommaire)"
   ]
  },
  {
   "cell_type": "code",
   "execution_count": 28,
   "metadata": {},
   "outputs": [],
   "source": [
    "from scipy.cluster import hierarchy\n",
    "from scipy.cluster.hierarchy import linkage, fcluster, centroid\n",
    "from sklearn import preprocessing, decomposition\n",
    "from functions import *"
   ]
  },
  {
   "cell_type": "markdown",
   "metadata": {},
   "source": [
    "* Evol pop: Évolution de la population entre 2003 et 2013 (%)  \n",
    "* Ratio prot Ani: Disponibilité en protéine animale par rapport à la disponibilité totale en protéine (%)  \n",
    "* Disp alim prot Tot: Disponibilité totale en protéine (g/pers/jour)  \n",
    "* Disp alim Kcal Tot: Disponibilité totale en kilocalorie (Kcal/pers/jour)  \n",
    "* PIB/Hab: PIB par habitant en Parité de Pouvoir d'Achat référencée sur la valeur du dollar en 2011  \n",
    "* Ind Stab Pol: Indice sur la stabilité politique et l'absence de violence/terrorisme"
   ]
  },
  {
   "cell_type": "code",
   "execution_count": 29,
   "metadata": {},
   "outputs": [
    {
     "name": "stdout",
     "output_type": "stream",
     "text": [
      "[-5.31843365e-17  7.44580711e-17 -5.53117100e-16 -5.31843365e-17\n",
      "  7.44580711e-17  1.59553010e-17] [1. 1. 1. 1. 1. 1.]\n"
     ]
    }
   ],
   "source": [
    "#Sélection des variables\n",
    "dispo_alim5 = dispo_alim5a[['Evol pop', 'Ratio prot Ani', 'Disp alim prot Tot',\n",
    "            'Disp alim Kcal Tot', 'PIB/Hab', 'Ind Stab Pol']]\n",
    "\n",
    "#Préparation des données pour le clustering\n",
    "X = dispo_alim5.values\n",
    "pays = dispo_alim5.index\n",
    "n_comp = len(dispo_alim5.columns)\n",
    "n = dispo_alim5.shape[0]\n",
    "p = dispo_alim5.shape[1]\n",
    "features =dispo_alim5.columns\n",
    "\n",
    "#Centrage et réduction\n",
    "std_scale = preprocessing.StandardScaler().fit(X)\n",
    "X_scaled = std_scale.transform(X)\n",
    "\n",
    "#Instanciation de la reduction de dimension\n",
    "pca = decomposition.PCA(n_components=n_comp)\n",
    "pca.fit(X_scaled)\n",
    "\n",
    "#Vérification des moyennes (aux erreurs de troncature près) et des écarts-type unitaires\n",
    "print(np.mean(X_scaled, axis=0), np.std(X_scaled, axis=0))"
   ]
  },
  {
   "cell_type": "code",
   "execution_count": 30,
   "metadata": {},
   "outputs": [
    {
     "name": "stdout",
     "output_type": "stream",
     "text": [
      "[3.62660178 0.98036128 0.70976167 0.352466   0.26265075 0.1043031 ]\n"
     ]
    }
   ],
   "source": [
    "#Variance expliquée\n",
    "print(pca.explained_variance_)"
   ]
  },
  {
   "cell_type": "code",
   "execution_count": 31,
   "metadata": {},
   "outputs": [
    {
     "data": {
      "text/plain": [
       "array([3.6048856 , 0.97449085, 0.7055116 , 0.35035543, 0.26107799,\n",
       "       0.10367853])"
      ]
     },
     "execution_count": 31,
     "metadata": {},
     "output_type": "execute_result"
    }
   ],
   "source": [
    "#Variance expliquée corrigée\n",
    "eigval= (n-1)/n*pca.explained_variance_\n",
    "eigval"
   ]
  },
  {
   "cell_type": "code",
   "execution_count": 32,
   "metadata": {},
   "outputs": [
    {
     "data": {
      "text/plain": [
       "array([3.6048856 , 0.97449085, 0.7055116 , 0.35035543, 0.26107799,\n",
       "       0.10367853])"
      ]
     },
     "execution_count": 32,
     "metadata": {},
     "output_type": "execute_result"
    }
   ],
   "source": [
    "#Variance expliquée corrigée 2\n",
    "eigval2 = pca.singular_values_**2/n\n",
    "eigval2"
   ]
  },
  {
   "cell_type": "code",
   "execution_count": 33,
   "metadata": {},
   "outputs": [
    {
     "data": {
      "text/plain": [
       "array([60.1, 16.2, 11.8,  5.8,  4.4,  1.7])"
      ]
     },
     "execution_count": 33,
     "metadata": {},
     "output_type": "execute_result"
    }
   ],
   "source": [
    "#Proportion de variance expliquée\n",
    "prop_var = pca.explained_variance_ratio_ * 100\n",
    "np.around(prop_var, 1)"
   ]
  },
  {
   "cell_type": "code",
   "execution_count": 34,
   "metadata": {},
   "outputs": [
    {
     "data": {
      "image/png": "[encoded data removed]",
      "text/plain": [
       "<Figure size 432x288 with 1 Axes>"
      ]
     },
     "metadata": {
      "needs_background": "light"
     },
     "output_type": "display_data"
    },
    {
     "name": "stdout",
     "output_type": "stream",
     "text": [
      "[60.1 16.2 11.8  5.8  4.4  1.7]\n"
     ]
    }
   ],
   "source": [
    "#Affichage des éboulis des valeurs propres\n",
    "display_scree_plot(pca)\n",
    "print(np.around(prop_var, 1))"
   ]
  },
  {
   "cell_type": "code",
   "execution_count": 35,
   "metadata": {},
   "outputs": [
    {
     "data": {
      "text/html": [
       "<div>\n",
       "<style scoped>\n",
       "    .dataframe tbody tr th:only-of-type {\n",
       "        vertical-align: middle;\n",
       "    }\n",
       "\n",
       "    .dataframe tbody tr th {\n",
       "        vertical-align: top;\n",
       "    }\n",
       "\n",
       "    .dataframe thead th {\n",
       "        text-align: right;\n",
       "    }\n",
       "</style>\n",
       "<table border=\"1\" class=\"dataframe\">\n",
       "  <thead>\n",
       "    <tr style=\"text-align: right;\">\n",
       "      <th></th>\n",
       "      <th>COR_1</th>\n",
       "      <th>COR_2</th>\n",
       "      <th>COR_3</th>\n",
       "      <th>COR_4</th>\n",
       "      <th>COR_5</th>\n",
       "      <th>COR_6</th>\n",
       "    </tr>\n",
       "  </thead>\n",
       "  <tbody>\n",
       "    <tr>\n",
       "      <th>Evol pop</th>\n",
       "      <td>-0.44</td>\n",
       "      <td>0.87</td>\n",
       "      <td>-0.06</td>\n",
       "      <td>-0.12</td>\n",
       "      <td>0.18</td>\n",
       "      <td>-0.03</td>\n",
       "    </tr>\n",
       "    <tr>\n",
       "      <th>Ratio prot Ani</th>\n",
       "      <td>0.87</td>\n",
       "      <td>-0.11</td>\n",
       "      <td>-0.19</td>\n",
       "      <td>0.22</td>\n",
       "      <td>0.36</td>\n",
       "      <td>-0.09</td>\n",
       "    </tr>\n",
       "    <tr>\n",
       "      <th>Disp alim prot Tot</th>\n",
       "      <td>0.89</td>\n",
       "      <td>0.10</td>\n",
       "      <td>0.34</td>\n",
       "      <td>-0.10</td>\n",
       "      <td>0.11</td>\n",
       "      <td>0.23</td>\n",
       "    </tr>\n",
       "    <tr>\n",
       "      <th>Disp alim Kcal Tot</th>\n",
       "      <td>0.85</td>\n",
       "      <td>0.09</td>\n",
       "      <td>0.42</td>\n",
       "      <td>-0.21</td>\n",
       "      <td>-0.09</td>\n",
       "      <td>-0.20</td>\n",
       "    </tr>\n",
       "    <tr>\n",
       "      <th>PIB/Hab</th>\n",
       "      <td>0.78</td>\n",
       "      <td>0.44</td>\n",
       "      <td>-0.12</td>\n",
       "      <td>0.34</td>\n",
       "      <td>-0.27</td>\n",
       "      <td>0.02</td>\n",
       "    </tr>\n",
       "    <tr>\n",
       "      <th>Ind Stab Pol</th>\n",
       "      <td>0.72</td>\n",
       "      <td>-0.03</td>\n",
       "      <td>-0.60</td>\n",
       "      <td>-0.34</td>\n",
       "      <td>-0.08</td>\n",
       "      <td>0.02</td>\n",
       "    </tr>\n",
       "  </tbody>\n",
       "</table>\n",
       "</div>"
      ],
      "text/plain": [
       "                    COR_1  COR_2  COR_3  COR_4  COR_5  COR_6\n",
       "Evol pop            -0.44   0.87  -0.06  -0.12   0.18  -0.03\n",
       "Ratio prot Ani       0.87  -0.11  -0.19   0.22   0.36  -0.09\n",
       "Disp alim prot Tot   0.89   0.10   0.34  -0.10   0.11   0.23\n",
       "Disp alim Kcal Tot   0.85   0.09   0.42  -0.21  -0.09  -0.20\n",
       "PIB/Hab              0.78   0.44  -0.12   0.34  -0.27   0.02\n",
       "Ind Stab Pol         0.72  -0.03  -0.60  -0.34  -0.08   0.02"
      ]
     },
     "execution_count": 35,
     "metadata": {},
     "output_type": "execute_result"
    }
   ],
   "source": [
    "#Racine carrée des valeurs propres\n",
    "sqrt_eigval = np.sqrt(eigval)\n",
    "\n",
    "#Corrélation des variables avec les axes\n",
    "covar = np.zeros((p,p))\n",
    "for k in range(p):\n",
    "    covar[:,k] = pca.components_[k,:] * sqrt_eigval[k]\n",
    "\n",
    "mat_cor = pd.DataFrame(np.around(covar, 2),\n",
    "                       index=features,\n",
    "                       columns=['COR_'+str(i + 1) for i in range(p)])\n",
    "mat_cor"
   ]
  },
  {
   "cell_type": "code",
   "execution_count": 36,
   "metadata": {},
   "outputs": [
    {
     "data": {
      "text/html": [
       "<div>\n",
       "<style scoped>\n",
       "    .dataframe tbody tr th:only-of-type {\n",
       "        vertical-align: middle;\n",
       "    }\n",
       "\n",
       "    .dataframe tbody tr th {\n",
       "        vertical-align: top;\n",
       "    }\n",
       "\n",
       "    .dataframe thead th {\n",
       "        text-align: right;\n",
       "    }\n",
       "</style>\n",
       "<table border=\"1\" class=\"dataframe\">\n",
       "  <thead>\n",
       "    <tr style=\"text-align: right;\">\n",
       "      <th></th>\n",
       "      <th>COS_2_1</th>\n",
       "      <th>COS_2_2</th>\n",
       "      <th>COS_2_3</th>\n",
       "      <th>COS_2_4</th>\n",
       "      <th>COS_2_5</th>\n",
       "      <th>COS_2_6</th>\n",
       "    </tr>\n",
       "  </thead>\n",
       "  <tbody>\n",
       "    <tr>\n",
       "      <th>Evol pop</th>\n",
       "      <td>0.20</td>\n",
       "      <td>0.75</td>\n",
       "      <td>0.00</td>\n",
       "      <td>0.01</td>\n",
       "      <td>0.03</td>\n",
       "      <td>0.00</td>\n",
       "    </tr>\n",
       "    <tr>\n",
       "      <th>Ratio prot Ani</th>\n",
       "      <td>0.76</td>\n",
       "      <td>0.01</td>\n",
       "      <td>0.04</td>\n",
       "      <td>0.05</td>\n",
       "      <td>0.13</td>\n",
       "      <td>0.01</td>\n",
       "    </tr>\n",
       "    <tr>\n",
       "      <th>Disp alim prot Tot</th>\n",
       "      <td>0.80</td>\n",
       "      <td>0.01</td>\n",
       "      <td>0.11</td>\n",
       "      <td>0.01</td>\n",
       "      <td>0.01</td>\n",
       "      <td>0.05</td>\n",
       "    </tr>\n",
       "    <tr>\n",
       "      <th>Disp alim Kcal Tot</th>\n",
       "      <td>0.72</td>\n",
       "      <td>0.01</td>\n",
       "      <td>0.18</td>\n",
       "      <td>0.05</td>\n",
       "      <td>0.01</td>\n",
       "      <td>0.04</td>\n",
       "    </tr>\n",
       "    <tr>\n",
       "      <th>PIB/Hab</th>\n",
       "      <td>0.60</td>\n",
       "      <td>0.19</td>\n",
       "      <td>0.01</td>\n",
       "      <td>0.12</td>\n",
       "      <td>0.07</td>\n",
       "      <td>0.00</td>\n",
       "    </tr>\n",
       "    <tr>\n",
       "      <th>Ind Stab Pol</th>\n",
       "      <td>0.52</td>\n",
       "      <td>0.00</td>\n",
       "      <td>0.36</td>\n",
       "      <td>0.11</td>\n",
       "      <td>0.01</td>\n",
       "      <td>0.00</td>\n",
       "    </tr>\n",
       "  </tbody>\n",
       "</table>\n",
       "</div>"
      ],
      "text/plain": [
       "                    COS_2_1  COS_2_2  COS_2_3  COS_2_4  COS_2_5  COS_2_6\n",
       "Evol pop               0.20     0.75     0.00     0.01     0.03     0.00\n",
       "Ratio prot Ani         0.76     0.01     0.04     0.05     0.13     0.01\n",
       "Disp alim prot Tot     0.80     0.01     0.11     0.01     0.01     0.05\n",
       "Disp alim Kcal Tot     0.72     0.01     0.18     0.05     0.01     0.04\n",
       "PIB/Hab                0.60     0.19     0.01     0.12     0.07     0.00\n",
       "Ind Stab Pol           0.52     0.00     0.36     0.11     0.01     0.00"
      ]
     },
     "execution_count": 36,
     "metadata": {},
     "output_type": "execute_result"
    }
   ],
   "source": [
    "#Qualité de représentation des variables - cos2\n",
    "cos2var = covar**2\n",
    "    \n",
    "qual_repr_var = pd.DataFrame(np.around(cos2var, 2),\n",
    "                             index=features,\n",
    "                             columns=['COS_2_' + str(i + 1) for i in range(p)])\n",
    "qual_repr_var"
   ]
  },
  {
   "cell_type": "code",
   "execution_count": 37,
   "metadata": {},
   "outputs": [
    {
     "data": {
      "text/plain": [
       "Evol pop              0.99\n",
       "Ratio prot Ani        1.00\n",
       "Disp alim prot Tot    0.99\n",
       "Disp alim Kcal Tot    1.01\n",
       "PIB/Hab               0.99\n",
       "Ind Stab Pol          1.00\n",
       "dtype: float64"
      ]
     },
     "execution_count": 37,
     "metadata": {},
     "output_type": "execute_result"
    }
   ],
   "source": [
    "#Vérification\n",
    "np.sum(qual_repr_var, axis=1)"
   ]
  },
  {
   "cell_type": "code",
   "execution_count": 38,
   "metadata": {},
   "outputs": [
    {
     "data": {
      "text/html": [
       "<div>\n",
       "<style scoped>\n",
       "    .dataframe tbody tr th:only-of-type {\n",
       "        vertical-align: middle;\n",
       "    }\n",
       "\n",
       "    .dataframe tbody tr th {\n",
       "        vertical-align: top;\n",
       "    }\n",
       "\n",
       "    .dataframe thead th {\n",
       "        text-align: right;\n",
       "    }\n",
       "</style>\n",
       "<table border=\"1\" class=\"dataframe\">\n",
       "  <thead>\n",
       "    <tr style=\"text-align: right;\">\n",
       "      <th></th>\n",
       "      <th>CTR_1</th>\n",
       "      <th>CTR_2</th>\n",
       "      <th>CTR_3</th>\n",
       "      <th>CTR_4</th>\n",
       "      <th>CTR_5</th>\n",
       "      <th>CTR_6</th>\n",
       "    </tr>\n",
       "  </thead>\n",
       "  <tbody>\n",
       "    <tr>\n",
       "      <th>Evol pop</th>\n",
       "      <td>5.4</td>\n",
       "      <td>77.4</td>\n",
       "      <td>0.5</td>\n",
       "      <td>4.2</td>\n",
       "      <td>11.7</td>\n",
       "      <td>0.7</td>\n",
       "    </tr>\n",
       "    <tr>\n",
       "      <th>Ratio prot Ani</th>\n",
       "      <td>21.2</td>\n",
       "      <td>1.2</td>\n",
       "      <td>5.0</td>\n",
       "      <td>14.2</td>\n",
       "      <td>50.2</td>\n",
       "      <td>8.2</td>\n",
       "    </tr>\n",
       "    <tr>\n",
       "      <th>Disp alim prot Tot</th>\n",
       "      <td>22.1</td>\n",
       "      <td>1.0</td>\n",
       "      <td>16.3</td>\n",
       "      <td>2.9</td>\n",
       "      <td>4.9</td>\n",
       "      <td>52.8</td>\n",
       "    </tr>\n",
       "    <tr>\n",
       "      <th>Disp alim Kcal Tot</th>\n",
       "      <td>20.0</td>\n",
       "      <td>0.8</td>\n",
       "      <td>25.4</td>\n",
       "      <td>13.1</td>\n",
       "      <td>3.0</td>\n",
       "      <td>37.7</td>\n",
       "    </tr>\n",
       "    <tr>\n",
       "      <th>PIB/Hab</th>\n",
       "      <td>16.8</td>\n",
       "      <td>19.5</td>\n",
       "      <td>2.0</td>\n",
       "      <td>33.5</td>\n",
       "      <td>27.9</td>\n",
       "      <td>0.3</td>\n",
       "    </tr>\n",
       "    <tr>\n",
       "      <th>Ind Stab Pol</th>\n",
       "      <td>14.5</td>\n",
       "      <td>0.1</td>\n",
       "      <td>50.7</td>\n",
       "      <td>32.1</td>\n",
       "      <td>2.2</td>\n",
       "      <td>0.4</td>\n",
       "    </tr>\n",
       "  </tbody>\n",
       "</table>\n",
       "</div>"
      ],
      "text/plain": [
       "                    CTR_1  CTR_2  CTR_3  CTR_4  CTR_5  CTR_6\n",
       "Evol pop              5.4   77.4    0.5    4.2   11.7    0.7\n",
       "Ratio prot Ani       21.2    1.2    5.0   14.2   50.2    8.2\n",
       "Disp alim prot Tot   22.1    1.0   16.3    2.9    4.9   52.8\n",
       "Disp alim Kcal Tot   20.0    0.8   25.4   13.1    3.0   37.7\n",
       "PIB/Hab              16.8   19.5    2.0   33.5   27.9    0.3\n",
       "Ind Stab Pol         14.5    0.1   50.7   32.1    2.2    0.4"
      ]
     },
     "execution_count": 38,
     "metadata": {},
     "output_type": "execute_result"
    }
   ],
   "source": [
    "#Contribution des variables aux axes\n",
    "ctrvar = cos2var * 100\n",
    "for j in range(p):\n",
    "    ctrvar[:,j] = ctrvar[:,j]/eigval[j]\n",
    "\n",
    "ctr_ax_var = pd.DataFrame(np.around(ctrvar,1),\n",
    "                          index=features,\n",
    "                          columns=['CTR_' + str(i + 1) for i in range(p)])\n",
    "\n",
    "ctr_ax_var"
   ]
  },
  {
   "cell_type": "code",
   "execution_count": 39,
   "metadata": {},
   "outputs": [
    {
     "data": {
      "text/plain": [
       "CTR_1    100.0\n",
       "CTR_2    100.0\n",
       "CTR_3     99.9\n",
       "CTR_4    100.0\n",
       "CTR_5     99.9\n",
       "CTR_6    100.1\n",
       "dtype: float64"
      ]
     },
     "execution_count": 39,
     "metadata": {},
     "output_type": "execute_result"
    }
   ],
   "source": [
    "#Vérification\n",
    "np.sum(ctr_ax_var, axis=0)"
   ]
  },
  {
   "cell_type": "code",
   "execution_count": 40,
   "metadata": {},
   "outputs": [
    {
     "data": {
      "image/png": "[encoded data removed]",
      "text/plain": [
       "<Figure size 504x432 with 1 Axes>"
      ]
     },
     "metadata": {
      "needs_background": "light"
     },
     "output_type": "display_data"
    },
    {
     "data": {
      "image/png": "[encoded data removed]",
      "text/plain": [
       "<Figure size 504x432 with 1 Axes>"
      ]
     },
     "metadata": {
      "needs_background": "light"
     },
     "output_type": "display_data"
    },
    {
     "data": {
      "text/plain": [
       "array([[-0.23298457,  0.46016583,  0.47040936,  0.44697988,  0.40961538,\n",
       "         0.38092631],\n",
       "       [ 0.87982225, -0.11154496,  0.09915809,  0.08719347,  0.44192849,\n",
       "        -0.02710537],\n",
       "       [-0.0740752 , -0.22373835,  0.40364344,  0.50439625, -0.14274588,\n",
       "        -0.71185253],\n",
       "       [-0.20531552,  0.37626173, -0.17084497, -0.36220987,  0.57878042,\n",
       "        -0.56648202],\n",
       "       [ 0.34268666,  0.70866548,  0.22174388, -0.17303112, -0.52814919,\n",
       "        -0.14935663],\n",
       "       [-0.08096445, -0.28629815,  0.72635826, -0.614048  ,  0.05108542,\n",
       "         0.06493949]])"
      ]
     },
     "execution_count": 40,
     "metadata": {},
     "output_type": "execute_result"
    }
   ],
   "source": [
    "#Contribution des variables aux composantes principales\n",
    "pcs = pca.components_\n",
    "\n",
    "\n",
    "display_circles(covar.T, n_comp, pca,\n",
    "                [(0,1)],# (2,3), (4,5)],\n",
    "                labels = dispo_alim5.columns)\n",
    "\n",
    "display_circles(pcs, n_comp, pca,\n",
    "                [(0,1)],# (2,3), (4,5)],\n",
    "                labels = dispo_alim5.columns)\n",
    "pcs"
   ]
  },
  {
   "cell_type": "code",
   "execution_count": 41,
   "metadata": {},
   "outputs": [
    {
     "data": {
      "image/png": "[encoded data removed]",
      "text/plain": [
       "<Figure size 432x288 with 1 Axes>"
      ]
     },
     "metadata": {
      "needs_background": "light"
     },
     "output_type": "display_data"
    }
   ],
   "source": [
    "#faire varier le nombre de clusters de 2 à 10 #utilisation de lamétrique \"silhouette\"\n",
    "res = np.arange(9,dtype='float')\n",
    "for k in np.arange(9):\n",
    "    Z = linkage(X_scaled, 'ward')\n",
    "    clusterh = fcluster(Z, k+2, criterion='maxclust') # fromage_std est la table de donnée centrée-reduite\n",
    "    res[k] = metrics.silhouette_score(X_scaled,clusterh)\n",
    "\n",
    "#graphique\n",
    "plt.title(\"Silhouette\")\n",
    "plt.xlabel(\"Nombre de clusters\")\n",
    "plt.plot(np.arange(2,11,1),res)\n",
    "plt.show()\n",
    "plt.cla()\n",
    "plt.clf()\n",
    "plt.close()"
   ]
  },
  {
   "cell_type": "code",
   "execution_count": 42,
   "metadata": {},
   "outputs": [
    {
     "data": {
      "image/png": "[encoded data removed]",
      "text/plain": [
       "<Figure size 1800x1800 with 1 Axes>"
      ]
     },
     "metadata": {
      "needs_background": "light"
     },
     "output_type": "display_data"
    },
    {
     "data": {
      "image/png": "[encoded data removed]",
      "text/plain": [
       "<Figure size 1080x1080 with 1 Axes>"
      ]
     },
     "metadata": {
      "needs_background": "light"
     },
     "output_type": "display_data"
    }
   ],
   "source": [
    "#Clustering hiérarchique\n",
    "Z = linkage(X_scaled, 'ward')\n",
    "\n",
    "#Affichage du dendrogramme\n",
    "plt.figure(figsize=(25,25))\n",
    "plt.title('Hierarchical Clustering Dendrogram')\n",
    "plt.xlabel('distance')\n",
    "hierarchy.dendrogram(Z, labels = pays, orientation = \"left\")\n",
    "plt.plot([-12,12], [0,0])\n",
    "plt.savefig(f'graph/dend.png', dpi=150)\n",
    "\n",
    "#Affichage du dendrogramme avec 5 groupes\n",
    "plt.figure(figsize=(15,15))\n",
    "plt.title('Hierarchical Clustering Dendrogram(5 levels)')\n",
    "plt.xlabel('distance')\n",
    "hierarchy.dendrogram(Z, labels = pays, orientation = \"left\", p=5, truncate_mode='lastp')\n",
    "plt.savefig(f'graph/dend2.png')\n",
    "plt.show()"
   ]
  },
  {
   "cell_type": "code",
   "execution_count": 43,
   "metadata": {},
   "outputs": [
    {
     "data": {
      "image/png": "[encoded data removed]",
      "text/plain": [
       "<Figure size 504x432 with 1 Axes>"
      ]
     },
     "metadata": {
      "needs_background": "light"
     },
     "output_type": "display_data"
    },
    {
     "data": {
      "image/png": "[encoded data removed]",
      "text/plain": [
       "<Figure size 504x432 with 1 Axes>"
      ]
     },
     "metadata": {
      "needs_background": "light"
     },
     "output_type": "display_data"
    },
    {
     "data": {
      "image/png": "[encoded data removed]",
      "text/plain": [
       "<Figure size 504x432 with 1 Axes>"
      ]
     },
     "metadata": {
      "needs_background": "light"
     },
     "output_type": "display_data"
    }
   ],
   "source": [
    "#Coupage du dendrogramme en 5 clusters\n",
    "cluster = fcluster(Z, 5, criterion='maxclust')\n",
    "\n",
    "#Création du dataframe d'appartenance des pays à chaque cluster\n",
    "clusterdf = pd.DataFrame({'Pays':pays, 'Cluster':cluster})\n",
    "\n",
    "#Ajout de la colonne cluster au dataframe principal\n",
    "clusterdf.set_index('Pays', inplace=True)\n",
    "dispo_alim7a = pd.merge(dispo_alim5a, clusterdf, on = 'Pays')\n",
    "dispo_alim7 = pd.merge(dispo_alim5, clusterdf, on = 'Pays')\n",
    "dispo_alim8c = dispo_alim7.groupby('Cluster').mean()\n",
    "\n",
    "#Sauvegarde de la table des pays avec leurs clusters\n",
    "dispo_alim7a.to_csv('created_csv/table_pays_clusters.csv')\n",
    "\n",
    "#Calcul des centroides\n",
    "XC = dispo_alim8c.values\n",
    "\n",
    "#Centrage et réduction\n",
    "XC_scaled = std_scale.transform(XC)\n",
    "len(XC), len(XC_scaled)\n",
    "\n",
    "#Calcul des coordonnées des individus sur le premier plan factoriel\n",
    "X_projected = pca.transform(X_scaled)\n",
    "\n",
    "#Calcul des coordonnées des centroides sur le premier plan factoriel\n",
    "XC_projected = pca.transform(XC_scaled)\n",
    "\n",
    "display_factorial_planes(X_projected,\n",
    "                         n_comp,\n",
    "                         pca,\n",
    "                         [(0,1)],\n",
    "                         labels=None,\n",
    "                         alpha=1,\n",
    "                         illustrative_var=clusterdf.Cluster)\n",
    "\n",
    "#Projection des Centroides\n",
    "display_factorial_planes_centroid(XC_projected,\n",
    "                         n_comp,\n",
    "                         pca,\n",
    "                         [(0,1)],\n",
    "                         labels=None,\n",
    "                         alpha=1,\n",
    "                         illustrative_var=dispo_alim8c.index)\n",
    "\n",
    "display_factorial_planes(X_projected,\n",
    "                         n_comp,\n",
    "                         pca,\n",
    "                         [(0,1)],\n",
    "                         labels=pays,\n",
    "                         alpha=1)\n"
   ]
  },
  {
   "cell_type": "code",
   "execution_count": 44,
   "metadata": {},
   "outputs": [
    {
     "data": {
      "text/html": [
       "<div>\n",
       "<style scoped>\n",
       "    .dataframe tbody tr th:only-of-type {\n",
       "        vertical-align: middle;\n",
       "    }\n",
       "\n",
       "    .dataframe tbody tr th {\n",
       "        vertical-align: top;\n",
       "    }\n",
       "\n",
       "    .dataframe thead th {\n",
       "        text-align: right;\n",
       "    }\n",
       "</style>\n",
       "<table border=\"1\" class=\"dataframe\">\n",
       "  <thead>\n",
       "    <tr style=\"text-align: right;\">\n",
       "      <th></th>\n",
       "      <th>Coord_F1</th>\n",
       "      <th>Coord_F2</th>\n",
       "      <th>Coord_F3</th>\n",
       "      <th>Coord_F4</th>\n",
       "      <th>Coord_F5</th>\n",
       "      <th>Coord_F6</th>\n",
       "    </tr>\n",
       "    <tr>\n",
       "      <th>Cluster</th>\n",
       "      <th></th>\n",
       "      <th></th>\n",
       "      <th></th>\n",
       "      <th></th>\n",
       "      <th></th>\n",
       "      <th></th>\n",
       "    </tr>\n",
       "  </thead>\n",
       "  <tbody>\n",
       "    <tr>\n",
       "      <th>1</th>\n",
       "      <td>-2.21</td>\n",
       "      <td>0.10</td>\n",
       "      <td>-0.17</td>\n",
       "      <td>0.02</td>\n",
       "      <td>-0.18</td>\n",
       "      <td>0.04</td>\n",
       "    </tr>\n",
       "    <tr>\n",
       "      <th>2</th>\n",
       "      <td>0.62</td>\n",
       "      <td>-0.40</td>\n",
       "      <td>-0.83</td>\n",
       "      <td>-0.04</td>\n",
       "      <td>0.23</td>\n",
       "      <td>-0.10</td>\n",
       "    </tr>\n",
       "    <tr>\n",
       "      <th>3</th>\n",
       "      <td>-0.45</td>\n",
       "      <td>-0.23</td>\n",
       "      <td>0.75</td>\n",
       "      <td>-0.04</td>\n",
       "      <td>0.04</td>\n",
       "      <td>-0.02</td>\n",
       "    </tr>\n",
       "    <tr>\n",
       "      <th>4</th>\n",
       "      <td>2.38</td>\n",
       "      <td>-0.11</td>\n",
       "      <td>0.34</td>\n",
       "      <td>-0.07</td>\n",
       "      <td>0.07</td>\n",
       "      <td>0.06</td>\n",
       "    </tr>\n",
       "    <tr>\n",
       "      <th>5</th>\n",
       "      <td>2.13</td>\n",
       "      <td>3.19</td>\n",
       "      <td>-0.45</td>\n",
       "      <td>0.68</td>\n",
       "      <td>-0.53</td>\n",
       "      <td>-0.03</td>\n",
       "    </tr>\n",
       "  </tbody>\n",
       "</table>\n",
       "</div>"
      ],
      "text/plain": [
       "         Coord_F1  Coord_F2  Coord_F3  Coord_F4  Coord_F5  Coord_F6\n",
       "Cluster                                                            \n",
       "1           -2.21      0.10     -0.17      0.02     -0.18      0.04\n",
       "2            0.62     -0.40     -0.83     -0.04      0.23     -0.10\n",
       "3           -0.45     -0.23      0.75     -0.04      0.04     -0.02\n",
       "4            2.38     -0.11      0.34     -0.07      0.07      0.06\n",
       "5            2.13      3.19     -0.45      0.68     -0.53     -0.03"
      ]
     },
     "execution_count": 44,
     "metadata": {},
     "output_type": "execute_result"
    }
   ],
   "source": [
    "#Calcul des coordonnées des centroides\n",
    "coord_centroid = pd.DataFrame(np.around(XC_projected, 2),\n",
    "                              index=dispo_alim8c.index,\n",
    "                              columns=['Coord_F' + str(i + 1) for i in range(p)])\n",
    "\n",
    "#Sauvegarde de la table des centroides avec leurs coordonnées dans chaque dimension\n",
    "coord_centroid.to_csv('created_csv/coord_centroid.csv')\n",
    "coord_centroid"
   ]
  },
  {
   "cell_type": "code",
   "execution_count": 45,
   "metadata": {},
   "outputs": [
    {
     "data": {
      "text/html": [
       "<div>\n",
       "<style scoped>\n",
       "    .dataframe tbody tr th:only-of-type {\n",
       "        vertical-align: middle;\n",
       "    }\n",
       "\n",
       "    .dataframe tbody tr th {\n",
       "        vertical-align: top;\n",
       "    }\n",
       "\n",
       "    .dataframe thead th {\n",
       "        text-align: right;\n",
       "    }\n",
       "</style>\n",
       "<table border=\"1\" class=\"dataframe\">\n",
       "  <thead>\n",
       "    <tr style=\"text-align: right;\">\n",
       "      <th></th>\n",
       "      <th>2013</th>\n",
       "      <th>Evol pop</th>\n",
       "      <th>Ratio prot Ani</th>\n",
       "      <th>Disp alim prot Tot</th>\n",
       "      <th>Disp alim Kcal Tot</th>\n",
       "      <th>PIB/Hab</th>\n",
       "      <th>Ind Stab Pol</th>\n",
       "      <th>Cluster</th>\n",
       "    </tr>\n",
       "    <tr>\n",
       "      <th>Pays</th>\n",
       "      <th></th>\n",
       "      <th></th>\n",
       "      <th></th>\n",
       "      <th></th>\n",
       "      <th></th>\n",
       "      <th></th>\n",
       "      <th></th>\n",
       "      <th></th>\n",
       "    </tr>\n",
       "  </thead>\n",
       "  <tbody>\n",
       "    <tr>\n",
       "      <th>Arabie saoudite</th>\n",
       "      <td>29944.476</td>\n",
       "      <td>32.75</td>\n",
       "      <td>43.577431</td>\n",
       "      <td>91.63</td>\n",
       "      <td>3255.0</td>\n",
       "      <td>49537.6</td>\n",
       "      <td>-0.43</td>\n",
       "      <td>5</td>\n",
       "    </tr>\n",
       "    <tr>\n",
       "      <th>Brunéi Darussalam</th>\n",
       "      <td>405.716</td>\n",
       "      <td>14.81</td>\n",
       "      <td>56.685580</td>\n",
       "      <td>93.41</td>\n",
       "      <td>2985.0</td>\n",
       "      <td>79070.2</td>\n",
       "      <td>1.07</td>\n",
       "      <td>5</td>\n",
       "    </tr>\n",
       "    <tr>\n",
       "      <th>Chine - RAS de Macao</th>\n",
       "      <td>575.841</td>\n",
       "      <td>25.14</td>\n",
       "      <td>64.424294</td>\n",
       "      <td>94.84</td>\n",
       "      <td>2915.0</td>\n",
       "      <td>135319.0</td>\n",
       "      <td>0.76</td>\n",
       "      <td>5</td>\n",
       "    </tr>\n",
       "    <tr>\n",
       "      <th>Koweït</th>\n",
       "      <td>3598.385</td>\n",
       "      <td>65.89</td>\n",
       "      <td>49.501109</td>\n",
       "      <td>108.24</td>\n",
       "      <td>3501.0</td>\n",
       "      <td>74084.5</td>\n",
       "      <td>0.17</td>\n",
       "      <td>5</td>\n",
       "    </tr>\n",
       "    <tr>\n",
       "      <th>Luxembourg</th>\n",
       "      <td>544.721</td>\n",
       "      <td>21.77</td>\n",
       "      <td>63.329821</td>\n",
       "      <td>113.88</td>\n",
       "      <td>3539.0</td>\n",
       "      <td>90656.4</td>\n",
       "      <td>1.34</td>\n",
       "      <td>5</td>\n",
       "    </tr>\n",
       "    <tr>\n",
       "      <th>Oman</th>\n",
       "      <td>3711.481</td>\n",
       "      <td>55.60</td>\n",
       "      <td>51.773371</td>\n",
       "      <td>88.25</td>\n",
       "      <td>3143.0</td>\n",
       "      <td>41924.8</td>\n",
       "      <td>0.46</td>\n",
       "      <td>5</td>\n",
       "    </tr>\n",
       "    <tr>\n",
       "      <th>Émirats arabes unis</th>\n",
       "      <td>9006.263</td>\n",
       "      <td>140.68</td>\n",
       "      <td>39.858536</td>\n",
       "      <td>104.62</td>\n",
       "      <td>3280.0</td>\n",
       "      <td>61688.4</td>\n",
       "      <td>0.89</td>\n",
       "      <td>5</td>\n",
       "    </tr>\n",
       "  </tbody>\n",
       "</table>\n",
       "</div>"
      ],
      "text/plain": [
       "                           2013  Evol pop  Ratio prot Ani  Disp alim prot Tot  \\\n",
       "Pays                                                                            \n",
       "Arabie saoudite       29944.476     32.75       43.577431               91.63   \n",
       "Brunéi Darussalam       405.716     14.81       56.685580               93.41   \n",
       "Chine - RAS de Macao    575.841     25.14       64.424294               94.84   \n",
       "Koweït                 3598.385     65.89       49.501109              108.24   \n",
       "Luxembourg              544.721     21.77       63.329821              113.88   \n",
       "Oman                   3711.481     55.60       51.773371               88.25   \n",
       "Émirats arabes unis    9006.263    140.68       39.858536              104.62   \n",
       "\n",
       "                      Disp alim Kcal Tot   PIB/Hab  Ind Stab Pol  Cluster  \n",
       "Pays                                                                       \n",
       "Arabie saoudite                   3255.0   49537.6         -0.43        5  \n",
       "Brunéi Darussalam                 2985.0   79070.2          1.07        5  \n",
       "Chine - RAS de Macao              2915.0  135319.0          0.76        5  \n",
       "Koweït                            3501.0   74084.5          0.17        5  \n",
       "Luxembourg                        3539.0   90656.4          1.34        5  \n",
       "Oman                              3143.0   41924.8          0.46        5  \n",
       "Émirats arabes unis               3280.0   61688.4          0.89        5  "
      ]
     },
     "execution_count": 45,
     "metadata": {},
     "output_type": "execute_result"
    }
   ],
   "source": [
    "#Liste principale des pays potentiels\n",
    "dispo_alim8 = dispo_alim7a[dispo_alim7a['Cluster'] == 5]\n",
    "selection = dispo_alim8.index\n",
    "dispo_alim8"
   ]
  },
  {
   "cell_type": "code",
   "execution_count": 46,
   "metadata": {},
   "outputs": [
    {
     "data": {
      "text/html": [
       "<div>\n",
       "<style scoped>\n",
       "    .dataframe tbody tr th:only-of-type {\n",
       "        vertical-align: middle;\n",
       "    }\n",
       "\n",
       "    .dataframe tbody tr th {\n",
       "        vertical-align: top;\n",
       "    }\n",
       "\n",
       "    .dataframe thead th {\n",
       "        text-align: right;\n",
       "    }\n",
       "</style>\n",
       "<table border=\"1\" class=\"dataframe\">\n",
       "  <thead>\n",
       "    <tr style=\"text-align: right;\">\n",
       "      <th></th>\n",
       "      <th>d_i</th>\n",
       "    </tr>\n",
       "  </thead>\n",
       "  <tbody>\n",
       "    <tr>\n",
       "      <th>count</th>\n",
       "      <td>167.000000</td>\n",
       "    </tr>\n",
       "    <tr>\n",
       "      <th>mean</th>\n",
       "      <td>5.999880</td>\n",
       "    </tr>\n",
       "    <tr>\n",
       "      <th>std</th>\n",
       "      <td>6.441709</td>\n",
       "    </tr>\n",
       "    <tr>\n",
       "      <th>min</th>\n",
       "      <td>0.290000</td>\n",
       "    </tr>\n",
       "    <tr>\n",
       "      <th>25%</th>\n",
       "      <td>2.715000</td>\n",
       "    </tr>\n",
       "    <tr>\n",
       "      <th>50%</th>\n",
       "      <td>4.630000</td>\n",
       "    </tr>\n",
       "    <tr>\n",
       "      <th>75%</th>\n",
       "      <td>8.015000</td>\n",
       "    </tr>\n",
       "    <tr>\n",
       "      <th>max</th>\n",
       "      <td>61.830000</td>\n",
       "    </tr>\n",
       "  </tbody>\n",
       "</table>\n",
       "</div>"
      ],
      "text/plain": [
       "              d_i\n",
       "count  167.000000\n",
       "mean     5.999880\n",
       "std      6.441709\n",
       "min      0.290000\n",
       "25%      2.715000\n",
       "50%      4.630000\n",
       "75%      8.015000\n",
       "max     61.830000"
      ]
     },
     "execution_count": 46,
     "metadata": {},
     "output_type": "execute_result"
    }
   ],
   "source": [
    "#Contribution des individus dans l'inertie total\n",
    "di = np.sum(X_scaled**2, axis=1)\n",
    "ctr_tot = pd.DataFrame({'ID':pays, 'd_i': np.around(di, 2)})\n",
    "\n",
    "ctr_tot.describe()"
   ]
  },
  {
   "cell_type": "code",
   "execution_count": 47,
   "metadata": {},
   "outputs": [
    {
     "data": {
      "text/html": [
       "<div>\n",
       "<style scoped>\n",
       "    .dataframe tbody tr th:only-of-type {\n",
       "        vertical-align: middle;\n",
       "    }\n",
       "\n",
       "    .dataframe tbody tr th {\n",
       "        vertical-align: top;\n",
       "    }\n",
       "\n",
       "    .dataframe thead th {\n",
       "        text-align: right;\n",
       "    }\n",
       "</style>\n",
       "<table border=\"1\" class=\"dataframe\">\n",
       "  <thead>\n",
       "    <tr style=\"text-align: right;\">\n",
       "      <th></th>\n",
       "      <th>ID</th>\n",
       "      <th>d_i</th>\n",
       "      <th>Selection</th>\n",
       "    </tr>\n",
       "  </thead>\n",
       "  <tbody>\n",
       "    <tr>\n",
       "      <th>7</th>\n",
       "      <td>Arabie saoudite</td>\n",
       "      <td>4.86</td>\n",
       "      <td>True</td>\n",
       "    </tr>\n",
       "    <tr>\n",
       "      <th>107</th>\n",
       "      <td>Oman</td>\n",
       "      <td>8.01</td>\n",
       "      <td>True</td>\n",
       "    </tr>\n",
       "    <tr>\n",
       "      <th>22</th>\n",
       "      <td>Brunéi Darussalam</td>\n",
       "      <td>12.81</td>\n",
       "      <td>True</td>\n",
       "    </tr>\n",
       "    <tr>\n",
       "      <th>80</th>\n",
       "      <td>Koweït</td>\n",
       "      <td>21.13</td>\n",
       "      <td>True</td>\n",
       "    </tr>\n",
       "    <tr>\n",
       "      <th>86</th>\n",
       "      <td>Luxembourg</td>\n",
       "      <td>23.39</td>\n",
       "      <td>True</td>\n",
       "    </tr>\n",
       "  </tbody>\n",
       "</table>\n",
       "</div>"
      ],
      "text/plain": [
       "                    ID    d_i  Selection\n",
       "7      Arabie saoudite   4.86       True\n",
       "107               Oman   8.01       True\n",
       "22   Brunéi Darussalam  12.81       True\n",
       "80              Koweït  21.13       True\n",
       "86          Luxembourg  23.39       True"
      ]
     },
     "execution_count": 47,
     "metadata": {},
     "output_type": "execute_result"
    }
   ],
   "source": [
    "#Contribution des individus de la selection 1 dans l'inertie total\n",
    "ctr_tot['Selection'] = ctr_tot['ID'].isin(selection)\n",
    "ctr_tot[ctr_tot['Selection'] == True].sort_values(by='d_i').head()"
   ]
  },
  {
   "cell_type": "code",
   "execution_count": 48,
   "metadata": {},
   "outputs": [
    {
     "data": {
      "text/html": [
       "<div>\n",
       "<style scoped>\n",
       "    .dataframe tbody tr th:only-of-type {\n",
       "        vertical-align: middle;\n",
       "    }\n",
       "\n",
       "    .dataframe tbody tr th {\n",
       "        vertical-align: top;\n",
       "    }\n",
       "\n",
       "    .dataframe thead th {\n",
       "        text-align: right;\n",
       "    }\n",
       "</style>\n",
       "<table border=\"1\" class=\"dataframe\">\n",
       "  <thead>\n",
       "    <tr style=\"text-align: right;\">\n",
       "      <th></th>\n",
       "      <th>Pays</th>\n",
       "      <th>COS2_1</th>\n",
       "      <th>COS2_2</th>\n",
       "      <th>COS2_3</th>\n",
       "      <th>COS2_4</th>\n",
       "      <th>COS2_5</th>\n",
       "      <th>COS2_6</th>\n",
       "    </tr>\n",
       "  </thead>\n",
       "  <tbody>\n",
       "    <tr>\n",
       "      <th>0</th>\n",
       "      <td>Afghanistan</td>\n",
       "      <td>83.1</td>\n",
       "      <td>2.9</td>\n",
       "      <td>4.9</td>\n",
       "      <td>7.7</td>\n",
       "      <td>0.7</td>\n",
       "      <td>0.6</td>\n",
       "    </tr>\n",
       "    <tr>\n",
       "      <th>1</th>\n",
       "      <td>Afrique du Sud</td>\n",
       "      <td>12.3</td>\n",
       "      <td>22.8</td>\n",
       "      <td>32.0</td>\n",
       "      <td>29.8</td>\n",
       "      <td>0.5</td>\n",
       "      <td>2.6</td>\n",
       "    </tr>\n",
       "    <tr>\n",
       "      <th>2</th>\n",
       "      <td>Albanie</td>\n",
       "      <td>47.2</td>\n",
       "      <td>28.0</td>\n",
       "      <td>14.8</td>\n",
       "      <td>2.1</td>\n",
       "      <td>2.7</td>\n",
       "      <td>5.1</td>\n",
       "    </tr>\n",
       "    <tr>\n",
       "      <th>3</th>\n",
       "      <td>Algérie</td>\n",
       "      <td>3.0</td>\n",
       "      <td>1.8</td>\n",
       "      <td>88.6</td>\n",
       "      <td>2.1</td>\n",
       "      <td>4.3</td>\n",
       "      <td>0.1</td>\n",
       "    </tr>\n",
       "    <tr>\n",
       "      <th>4</th>\n",
       "      <td>Allemagne</td>\n",
       "      <td>95.9</td>\n",
       "      <td>0.7</td>\n",
       "      <td>0.0</td>\n",
       "      <td>0.0</td>\n",
       "      <td>2.4</td>\n",
       "      <td>0.9</td>\n",
       "    </tr>\n",
       "  </tbody>\n",
       "</table>\n",
       "</div>"
      ],
      "text/plain": [
       "             Pays  COS2_1  COS2_2  COS2_3  COS2_4  COS2_5  COS2_6\n",
       "0     Afghanistan    83.1     2.9     4.9     7.7     0.7     0.6\n",
       "1  Afrique du Sud    12.3    22.8    32.0    29.8     0.5     2.6\n",
       "2         Albanie    47.2    28.0    14.8     2.1     2.7     5.1\n",
       "3         Algérie     3.0     1.8    88.6     2.1     4.3     0.1\n",
       "4       Allemagne    95.9     0.7     0.0     0.0     2.4     0.9"
      ]
     },
     "execution_count": 48,
     "metadata": {},
     "output_type": "execute_result"
    }
   ],
   "source": [
    "#Qualité de représentation des individus\n",
    "cos2 = X_projected**2\n",
    "for j in range(p):\n",
    "    cos2[:,j] = 100 * cos2[:,j]/di\n",
    "\n",
    "qual_repr = pd.DataFrame(np.around(cos2, 1),\n",
    "                         index=pays,\n",
    "                         columns=['COS2_' + str(i + 1) for i in range(p)])\n",
    "\n",
    "qual_repr = qual_repr.reset_index()\n",
    "\n",
    "qual_repr.head()"
   ]
  },
  {
   "cell_type": "code",
   "execution_count": 49,
   "metadata": {},
   "outputs": [
    {
     "data": {
      "text/html": [
       "<div>\n",
       "<style scoped>\n",
       "    .dataframe tbody tr th:only-of-type {\n",
       "        vertical-align: middle;\n",
       "    }\n",
       "\n",
       "    .dataframe tbody tr th {\n",
       "        vertical-align: top;\n",
       "    }\n",
       "\n",
       "    .dataframe thead th {\n",
       "        text-align: right;\n",
       "    }\n",
       "</style>\n",
       "<table border=\"1\" class=\"dataframe\">\n",
       "  <thead>\n",
       "    <tr style=\"text-align: right;\">\n",
       "      <th></th>\n",
       "      <th>Pays</th>\n",
       "      <th>COS2_1</th>\n",
       "      <th>COS2_2</th>\n",
       "      <th>COS2_3</th>\n",
       "      <th>COS2_4</th>\n",
       "      <th>COS2_5</th>\n",
       "      <th>COS2_6</th>\n",
       "      <th>Selection</th>\n",
       "    </tr>\n",
       "  </thead>\n",
       "  <tbody>\n",
       "    <tr>\n",
       "      <th>7</th>\n",
       "      <td>Arabie saoudite</td>\n",
       "      <td>19.4</td>\n",
       "      <td>59.3</td>\n",
       "      <td>8.2</td>\n",
       "      <td>6.9</td>\n",
       "      <td>5.1</td>\n",
       "      <td>1.1</td>\n",
       "      <td>True</td>\n",
       "    </tr>\n",
       "    <tr>\n",
       "      <th>22</th>\n",
       "      <td>Brunéi Darussalam</td>\n",
       "      <td>53.0</td>\n",
       "      <td>12.5</td>\n",
       "      <td>9.9</td>\n",
       "      <td>12.7</td>\n",
       "      <td>11.4</td>\n",
       "      <td>0.5</td>\n",
       "      <td>True</td>\n",
       "    </tr>\n",
       "    <tr>\n",
       "      <th>34</th>\n",
       "      <td>Chine - RAS de Macao</td>\n",
       "      <td>34.1</td>\n",
       "      <td>22.8</td>\n",
       "      <td>5.6</td>\n",
       "      <td>26.2</td>\n",
       "      <td>10.9</td>\n",
       "      <td>0.3</td>\n",
       "      <td>True</td>\n",
       "    </tr>\n",
       "    <tr>\n",
       "      <th>80</th>\n",
       "      <td>Koweït</td>\n",
       "      <td>20.8</td>\n",
       "      <td>77.6</td>\n",
       "      <td>0.7</td>\n",
       "      <td>0.5</td>\n",
       "      <td>0.3</td>\n",
       "      <td>0.1</td>\n",
       "      <td>True</td>\n",
       "    </tr>\n",
       "    <tr>\n",
       "      <th>86</th>\n",
       "      <td>Luxembourg</td>\n",
       "      <td>72.1</td>\n",
       "      <td>18.0</td>\n",
       "      <td>1.0</td>\n",
       "      <td>3.4</td>\n",
       "      <td>5.4</td>\n",
       "      <td>0.1</td>\n",
       "      <td>True</td>\n",
       "    </tr>\n",
       "    <tr>\n",
       "      <th>107</th>\n",
       "      <td>Oman</td>\n",
       "      <td>10.2</td>\n",
       "      <td>83.3</td>\n",
       "      <td>2.1</td>\n",
       "      <td>0.3</td>\n",
       "      <td>2.0</td>\n",
       "      <td>2.1</td>\n",
       "      <td>True</td>\n",
       "    </tr>\n",
       "    <tr>\n",
       "      <th>162</th>\n",
       "      <td>Émirats arabes unis</td>\n",
       "      <td>0.4</td>\n",
       "      <td>93.9</td>\n",
       "      <td>0.6</td>\n",
       "      <td>3.1</td>\n",
       "      <td>2.0</td>\n",
       "      <td>0.0</td>\n",
       "      <td>True</td>\n",
       "    </tr>\n",
       "  </tbody>\n",
       "</table>\n",
       "</div>"
      ],
      "text/plain": [
       "                     Pays  COS2_1  COS2_2  COS2_3  COS2_4  COS2_5  COS2_6  \\\n",
       "7         Arabie saoudite    19.4    59.3     8.2     6.9     5.1     1.1   \n",
       "22      Brunéi Darussalam    53.0    12.5     9.9    12.7    11.4     0.5   \n",
       "34   Chine - RAS de Macao    34.1    22.8     5.6    26.2    10.9     0.3   \n",
       "80                 Koweït    20.8    77.6     0.7     0.5     0.3     0.1   \n",
       "86             Luxembourg    72.1    18.0     1.0     3.4     5.4     0.1   \n",
       "107                  Oman    10.2    83.3     2.1     0.3     2.0     2.1   \n",
       "162   Émirats arabes unis     0.4    93.9     0.6     3.1     2.0     0.0   \n",
       "\n",
       "     Selection  \n",
       "7         True  \n",
       "22        True  \n",
       "34        True  \n",
       "80        True  \n",
       "86        True  \n",
       "107       True  \n",
       "162       True  "
      ]
     },
     "execution_count": 49,
     "metadata": {},
     "output_type": "execute_result"
    }
   ],
   "source": [
    "#Qualité de représentation des individus de la selection 1\n",
    "qual_repr['Selection'] = qual_repr['Pays'].isin(selection)\n",
    "qual_repr[qual_repr['Selection'] == True]"
   ]
  },
  {
   "cell_type": "code",
   "execution_count": 50,
   "metadata": {},
   "outputs": [
    {
     "data": {
      "text/plain": [
       "array([100., 100., 100., 100., 100., 100., 100., 100., 100., 100., 100.,\n",
       "       100., 100., 100., 100., 100., 100., 100., 100., 100., 100., 100.,\n",
       "       100., 100., 100., 100., 100., 100., 100., 100., 100., 100., 100.,\n",
       "       100., 100., 100., 100., 100., 100., 100., 100., 100., 100., 100.,\n",
       "       100., 100., 100., 100., 100., 100., 100., 100., 100., 100., 100.,\n",
       "       100., 100., 100., 100., 100., 100., 100., 100., 100., 100., 100.,\n",
       "       100., 100., 100., 100., 100., 100., 100., 100., 100., 100., 100.,\n",
       "       100., 100., 100., 100., 100., 100., 100., 100., 100., 100., 100.,\n",
       "       100., 100., 100., 100., 100., 100., 100., 100., 100., 100., 100.,\n",
       "       100., 100., 100., 100., 100., 100., 100., 100., 100., 100., 100.,\n",
       "       100., 100., 100., 100., 100., 100., 100., 100., 100., 100., 100.,\n",
       "       100., 100., 100., 100., 100., 100., 100., 100., 100., 100., 100.,\n",
       "       100., 100., 100., 100., 100., 100., 100., 100., 100., 100., 100.,\n",
       "       100., 100., 100., 100., 100., 100., 100., 100., 100., 100., 100.,\n",
       "       100., 100., 100., 100., 100., 100., 100., 100., 100., 100., 100.,\n",
       "       100., 100.])"
      ]
     },
     "execution_count": 50,
     "metadata": {},
     "output_type": "execute_result"
    }
   ],
   "source": [
    "#Vérification des cos\n",
    "np.sum(cos2, axis=1)"
   ]
  },
  {
   "cell_type": "code",
   "execution_count": 51,
   "metadata": {},
   "outputs": [
    {
     "data": {
      "text/html": [
       "<div>\n",
       "<style scoped>\n",
       "    .dataframe tbody tr th:only-of-type {\n",
       "        vertical-align: middle;\n",
       "    }\n",
       "\n",
       "    .dataframe tbody tr th {\n",
       "        vertical-align: top;\n",
       "    }\n",
       "\n",
       "    .dataframe thead th {\n",
       "        text-align: right;\n",
       "    }\n",
       "</style>\n",
       "<table border=\"1\" class=\"dataframe\">\n",
       "  <thead>\n",
       "    <tr style=\"text-align: right;\">\n",
       "      <th></th>\n",
       "      <th>CTR_1</th>\n",
       "      <th>CTR_2</th>\n",
       "      <th>CTR_3</th>\n",
       "      <th>CTR_4</th>\n",
       "      <th>CTR_5</th>\n",
       "      <th>CTR_6</th>\n",
       "    </tr>\n",
       "  </thead>\n",
       "  <tbody>\n",
       "    <tr>\n",
       "      <th>count</th>\n",
       "      <td>167.000000</td>\n",
       "      <td>167.000000</td>\n",
       "      <td>167.000000</td>\n",
       "      <td>167.000000</td>\n",
       "      <td>167.000000</td>\n",
       "      <td>167.000000</td>\n",
       "    </tr>\n",
       "    <tr>\n",
       "      <th>mean</th>\n",
       "      <td>0.598743</td>\n",
       "      <td>0.599162</td>\n",
       "      <td>0.598922</td>\n",
       "      <td>0.598743</td>\n",
       "      <td>0.598563</td>\n",
       "      <td>0.598802</td>\n",
       "    </tr>\n",
       "    <tr>\n",
       "      <th>std</th>\n",
       "      <td>0.608127</td>\n",
       "      <td>2.904633</td>\n",
       "      <td>0.906260</td>\n",
       "      <td>1.584977</td>\n",
       "      <td>1.213256</td>\n",
       "      <td>0.908729</td>\n",
       "    </tr>\n",
       "    <tr>\n",
       "      <th>min</th>\n",
       "      <td>0.000000</td>\n",
       "      <td>0.000000</td>\n",
       "      <td>0.000000</td>\n",
       "      <td>0.000000</td>\n",
       "      <td>0.000000</td>\n",
       "      <td>0.000000</td>\n",
       "    </tr>\n",
       "    <tr>\n",
       "      <th>25%</th>\n",
       "      <td>0.085000</td>\n",
       "      <td>0.030000</td>\n",
       "      <td>0.085000</td>\n",
       "      <td>0.050000</td>\n",
       "      <td>0.070000</td>\n",
       "      <td>0.060000</td>\n",
       "    </tr>\n",
       "    <tr>\n",
       "      <th>50%</th>\n",
       "      <td>0.390000</td>\n",
       "      <td>0.140000</td>\n",
       "      <td>0.260000</td>\n",
       "      <td>0.190000</td>\n",
       "      <td>0.270000</td>\n",
       "      <td>0.220000</td>\n",
       "    </tr>\n",
       "    <tr>\n",
       "      <th>75%</th>\n",
       "      <td>1.000000</td>\n",
       "      <td>0.350000</td>\n",
       "      <td>0.755000</td>\n",
       "      <td>0.490000</td>\n",
       "      <td>0.670000</td>\n",
       "      <td>0.715000</td>\n",
       "    </tr>\n",
       "    <tr>\n",
       "      <th>max</th>\n",
       "      <td>2.800000</td>\n",
       "      <td>35.660000</td>\n",
       "      <td>6.220000</td>\n",
       "      <td>18.130000</td>\n",
       "      <td>10.190000</td>\n",
       "      <td>6.930000</td>\n",
       "    </tr>\n",
       "  </tbody>\n",
       "</table>\n",
       "</div>"
      ],
      "text/plain": [
       "            CTR_1       CTR_2       CTR_3       CTR_4       CTR_5       CTR_6\n",
       "count  167.000000  167.000000  167.000000  167.000000  167.000000  167.000000\n",
       "mean     0.598743    0.599162    0.598922    0.598743    0.598563    0.598802\n",
       "std      0.608127    2.904633    0.906260    1.584977    1.213256    0.908729\n",
       "min      0.000000    0.000000    0.000000    0.000000    0.000000    0.000000\n",
       "25%      0.085000    0.030000    0.085000    0.050000    0.070000    0.060000\n",
       "50%      0.390000    0.140000    0.260000    0.190000    0.270000    0.220000\n",
       "75%      1.000000    0.350000    0.755000    0.490000    0.670000    0.715000\n",
       "max      2.800000   35.660000    6.220000   18.130000   10.190000    6.930000"
      ]
     },
     "execution_count": 51,
     "metadata": {},
     "output_type": "execute_result"
    }
   ],
   "source": [
    "#Contribution des individus aux axes\n",
    "ctr = X_projected**2\n",
    "for j in range(p):\n",
    "    ctr[:,j] = 100 * ctr[:,j]/(n*eigval[j])\n",
    "\n",
    "ctr_ax = pd.DataFrame(np.around(ctr, 2),\n",
    "                     index=pays,\n",
    "                     columns=['CTR_' + str(i + 1) for i in range(p)])\n",
    "\n",
    "ctr_ax = ctr_ax.reset_index()\n",
    "\n",
    "ctr_ax.describe()"
   ]
  },
  {
   "cell_type": "code",
   "execution_count": 52,
   "metadata": {},
   "outputs": [
    {
     "data": {
      "text/html": [
       "<div>\n",
       "<style scoped>\n",
       "    .dataframe tbody tr th:only-of-type {\n",
       "        vertical-align: middle;\n",
       "    }\n",
       "\n",
       "    .dataframe tbody tr th {\n",
       "        vertical-align: top;\n",
       "    }\n",
       "\n",
       "    .dataframe thead th {\n",
       "        text-align: right;\n",
       "    }\n",
       "</style>\n",
       "<table border=\"1\" class=\"dataframe\">\n",
       "  <thead>\n",
       "    <tr style=\"text-align: right;\">\n",
       "      <th></th>\n",
       "      <th>Pays</th>\n",
       "      <th>CTR_1</th>\n",
       "      <th>CTR_2</th>\n",
       "      <th>CTR_3</th>\n",
       "      <th>CTR_4</th>\n",
       "      <th>CTR_5</th>\n",
       "      <th>CTR_6</th>\n",
       "      <th>Selection</th>\n",
       "    </tr>\n",
       "  </thead>\n",
       "  <tbody>\n",
       "    <tr>\n",
       "      <th>7</th>\n",
       "      <td>Arabie saoudite</td>\n",
       "      <td>0.16</td>\n",
       "      <td>1.77</td>\n",
       "      <td>0.34</td>\n",
       "      <td>0.57</td>\n",
       "      <td>0.57</td>\n",
       "      <td>0.31</td>\n",
       "      <td>True</td>\n",
       "    </tr>\n",
       "    <tr>\n",
       "      <th>22</th>\n",
       "      <td>Brunéi Darussalam</td>\n",
       "      <td>1.13</td>\n",
       "      <td>0.98</td>\n",
       "      <td>1.08</td>\n",
       "      <td>2.78</td>\n",
       "      <td>3.34</td>\n",
       "      <td>0.36</td>\n",
       "      <td>True</td>\n",
       "    </tr>\n",
       "    <tr>\n",
       "      <th>34</th>\n",
       "      <td>Chine - RAS de Macao</td>\n",
       "      <td>2.29</td>\n",
       "      <td>5.67</td>\n",
       "      <td>1.93</td>\n",
       "      <td>18.13</td>\n",
       "      <td>10.14</td>\n",
       "      <td>0.67</td>\n",
       "      <td>True</td>\n",
       "    </tr>\n",
       "    <tr>\n",
       "      <th>80</th>\n",
       "      <td>Koweït</td>\n",
       "      <td>0.73</td>\n",
       "      <td>10.07</td>\n",
       "      <td>0.12</td>\n",
       "      <td>0.20</td>\n",
       "      <td>0.15</td>\n",
       "      <td>0.10</td>\n",
       "      <td>True</td>\n",
       "    </tr>\n",
       "    <tr>\n",
       "      <th>86</th>\n",
       "      <td>Luxembourg</td>\n",
       "      <td>2.80</td>\n",
       "      <td>2.58</td>\n",
       "      <td>0.21</td>\n",
       "      <td>1.37</td>\n",
       "      <td>2.91</td>\n",
       "      <td>0.07</td>\n",
       "      <td>True</td>\n",
       "    </tr>\n",
       "    <tr>\n",
       "      <th>107</th>\n",
       "      <td>Oman</td>\n",
       "      <td>0.14</td>\n",
       "      <td>4.10</td>\n",
       "      <td>0.14</td>\n",
       "      <td>0.04</td>\n",
       "      <td>0.36</td>\n",
       "      <td>0.96</td>\n",
       "      <td>True</td>\n",
       "    </tr>\n",
       "    <tr>\n",
       "      <th>162</th>\n",
       "      <td>Émirats arabes unis</td>\n",
       "      <td>0.04</td>\n",
       "      <td>35.66</td>\n",
       "      <td>0.31</td>\n",
       "      <td>3.31</td>\n",
       "      <td>2.78</td>\n",
       "      <td>0.08</td>\n",
       "      <td>True</td>\n",
       "    </tr>\n",
       "  </tbody>\n",
       "</table>\n",
       "</div>"
      ],
      "text/plain": [
       "                     Pays  CTR_1  CTR_2  CTR_3  CTR_4  CTR_5  CTR_6  Selection\n",
       "7         Arabie saoudite   0.16   1.77   0.34   0.57   0.57   0.31       True\n",
       "22      Brunéi Darussalam   1.13   0.98   1.08   2.78   3.34   0.36       True\n",
       "34   Chine - RAS de Macao   2.29   5.67   1.93  18.13  10.14   0.67       True\n",
       "80                 Koweït   0.73  10.07   0.12   0.20   0.15   0.10       True\n",
       "86             Luxembourg   2.80   2.58   0.21   1.37   2.91   0.07       True\n",
       "107                  Oman   0.14   4.10   0.14   0.04   0.36   0.96       True\n",
       "162   Émirats arabes unis   0.04  35.66   0.31   3.31   2.78   0.08       True"
      ]
     },
     "execution_count": 52,
     "metadata": {},
     "output_type": "execute_result"
    }
   ],
   "source": [
    "#Contribution des individus de la selection 1 aux axes\n",
    "ctr_ax['Selection'] = ctr_ax['Pays'].isin(selection)\n",
    "ctr_ax[ctr_ax['Selection'] == True]"
   ]
  },
  {
   "cell_type": "code",
   "execution_count": 53,
   "metadata": {},
   "outputs": [
    {
     "data": {
      "text/plain": [
       "Pays         AfghanistanAfrique du SudAlbanieAlgérieAllemag...\n",
       "CTR_1                                                    99.99\n",
       "CTR_2                                                   100.06\n",
       "CTR_3                                                   100.02\n",
       "CTR_4                                                    99.99\n",
       "CTR_5                                                    99.96\n",
       "CTR_6                                                      100\n",
       "Selection                                                    7\n",
       "dtype: object"
      ]
     },
     "execution_count": 53,
     "metadata": {},
     "output_type": "execute_result"
    }
   ],
   "source": [
    "#Vérification du calcul de la contribution aux axes\n",
    "np.sum(ctr_ax,axis=0)"
   ]
  },
  {
   "cell_type": "markdown",
   "metadata": {},
   "source": [
    "<a id='test'></a>\n",
    "<h3 style='color:#8677b2'>Tests statistiques</h3>"
   ]
  },
  {
   "cell_type": "markdown",
   "metadata": {},
   "source": [
    "[Haut de page](#sommaire)"
   ]
  },
  {
   "cell_type": "markdown",
   "metadata": {},
   "source": [
    "* Test d'adéquation à une loi Normale"
   ]
  },
  {
   "cell_type": "code",
   "execution_count": 54,
   "metadata": {},
   "outputs": [
    {
     "data": {
      "text/plain": [
       "(Index([                2013,           'Evol pop',     'Ratio prot Ani',\n",
       "        'Disp alim prot Tot', 'Disp alim Kcal Tot',            'PIB/Hab',\n",
       "              'Ind Stab Pol'],\n",
       "       dtype='object'), 167)"
      ]
     },
     "execution_count": 54,
     "metadata": {},
     "output_type": "execute_result"
    }
   ],
   "source": [
    "n = len(dispo_alim5a)\n",
    "dispo_alim5a.columns, n"
   ]
  },
  {
   "cell_type": "markdown",
   "metadata": {},
   "source": [
    "* La variable \"Ind Stab Pol\" (indice de stabilité politique)"
   ]
  },
  {
   "cell_type": "code",
   "execution_count": 55,
   "metadata": {},
   "outputs": [
    {
     "data": {
      "text/plain": [
       "(-0.06664670658682635, 0.9202977979221785, 0.8520501334680037, -2.6, 1.45)"
      ]
     },
     "execution_count": 55,
     "metadata": {},
     "output_type": "execute_result"
    }
   ],
   "source": [
    "#Calcul des indicateurs centraux et de dispersion\n",
    "x1 = dispo_alim5a['Ind Stab Pol']\n",
    "x1bar = np.mean(x1)\n",
    "x1sprime = np.std(x1)\n",
    "x1sprime2 = np.var(x1, ddof=1)\n",
    "x1bar, x1sprime, x1sprime2, x1.min(), x1.max()"
   ]
  },
  {
   "cell_type": "code",
   "execution_count": 56,
   "metadata": {},
   "outputs": [
    {
     "data": {
      "text/plain": [
       "Text(0.5, 1.0, 'Distribution marginale de la variable Ind Stab Pol')"
      ]
     },
     "execution_count": 56,
     "metadata": {},
     "output_type": "execute_result"
    },
    {
     "data": {
      "image/png": "[encoded data removed]",
      "text/plain": [
       "<Figure size 432x288 with 1 Axes>"
      ]
     },
     "metadata": {
      "needs_background": "light"
     },
     "output_type": "display_data"
    }
   ],
   "source": [
    "#Représentation de la distribution marginale\n",
    "n, bins, patches = plt.hist(x1, 20, density=False, facecolor='g', alpha=0.75)\n",
    "plt.axvline(x1bar, color='r', linewidth=2)\n",
    "plt.title(f'Distribution marginale de la variable {dispo_alim5a.columns[6]}')"
   ]
  },
  {
   "cell_type": "code",
   "execution_count": 57,
   "metadata": {},
   "outputs": [
    {
     "data": {
      "text/plain": [
       "Ks_2sampResult(statistic=0.08147305389221549, pvalue=0.28626034706723574)"
      ]
     },
     "execution_count": 57,
     "metadata": {},
     "output_type": "execute_result"
    }
   ],
   "source": [
    "#Test de Kolmogorov-Smirnov\n",
    "ks_2samp(x1,list(np.random.normal(x1bar, x1sprime, 1000)))"
   ]
  },
  {
   "cell_type": "code",
   "execution_count": 58,
   "metadata": {},
   "outputs": [
    {
     "data": {
      "text/plain": [
       "(0.9681621789932251, 0.0006971274851821363)"
      ]
     },
     "execution_count": 58,
     "metadata": {},
     "output_type": "execute_result"
    }
   ],
   "source": [
    "#Test de Shapiro\n",
    "stats.shapiro(x1)"
   ]
  },
  {
   "cell_type": "markdown",
   "metadata": {},
   "source": [
    "<p style='color:#8677b2;text-align:center'>\n",
    "    On rejette l'hypothèse \"H0: l'indice de stabilité politique suit une loi normale\" aux niveaux de test usuels<br/>\n",
    "</p>"
   ]
  },
  {
   "cell_type": "markdown",
   "metadata": {},
   "source": [
    "* La variable \"Evol pop\" (évolution de la population entre 2003 et 2013)"
   ]
  },
  {
   "cell_type": "code",
   "execution_count": 59,
   "metadata": {},
   "outputs": [
    {
     "data": {
      "text/plain": [
       "(16.59910179640719, 17.001017328712845, 290.7757624413823, -12.21, 140.68)"
      ]
     },
     "execution_count": 59,
     "metadata": {},
     "output_type": "execute_result"
    }
   ],
   "source": [
    "#Calcul des indicateurs centraux et de dispersion\n",
    "x2 = dispo_alim5a['Evol pop']\n",
    "x2bar = np.mean(x2)\n",
    "x2sprime = np.std(x2)\n",
    "x2sprime2 = np.var(x2, ddof=1)\n",
    "x2bar, x2sprime, x2sprime2, x2.min(), x2.max()"
   ]
  },
  {
   "cell_type": "code",
   "execution_count": 60,
   "metadata": {},
   "outputs": [
    {
     "data": {
      "text/plain": [
       "Text(0.5, 1.0, 'Distribution marginale de la variable Evol pop')"
      ]
     },
     "execution_count": 60,
     "metadata": {},
     "output_type": "execute_result"
    },
    {
     "data": {
      "image/png": "[encoded data removed]",
      "text/plain": [
       "<Figure size 432x288 with 1 Axes>"
      ]
     },
     "metadata": {
      "needs_background": "light"
     },
     "output_type": "display_data"
    }
   ],
   "source": [
    "#Représentation de la distribution marginale\n",
    "n, bins, patches = plt.hist(x2, 20, density=True, facecolor='g', alpha=0.75)\n",
    "plt.axvline(x2bar, color='r', linewidth=2)\n",
    "plt.title(f'Distribution marginale de la variable {dispo_alim5a.columns[1]}')"
   ]
  },
  {
   "cell_type": "code",
   "execution_count": 61,
   "metadata": {},
   "outputs": [
    {
     "data": {
      "text/plain": [
       "Ks_2sampResult(statistic=0.11065868263473044, pvalue=0.05570698122666316)"
      ]
     },
     "execution_count": 61,
     "metadata": {},
     "output_type": "execute_result"
    }
   ],
   "source": [
    "#Test de Kolmogorov-Smirnov\n",
    "ks_2samp(x2,list(np.random.normal(x2bar, x2sprime, 1000)))"
   ]
  },
  {
   "cell_type": "code",
   "execution_count": 62,
   "metadata": {},
   "outputs": [
    {
     "data": {
      "text/plain": [
       "(0.8398498296737671, 3.02080300877694e-12)"
      ]
     },
     "execution_count": 62,
     "metadata": {},
     "output_type": "execute_result"
    }
   ],
   "source": [
    "#Test de Shapiro\n",
    "stats.shapiro(x2)"
   ]
  },
  {
   "cell_type": "markdown",
   "metadata": {},
   "source": [
    "<p style='color:#8677b2;text-align:center'>\n",
    "    On rejette l'hypothèse \"H0: l'évolution de la population suit une loi normale\"  aux niveaux de test usuels<br/>\n",
    "</p>"
   ]
  },
  {
   "cell_type": "markdown",
   "metadata": {},
   "source": [
    "* La variable \"Ratio prot Ani\" (Proportion de protéines animales par rapport aux protéines totales)"
   ]
  },
  {
   "cell_type": "code",
   "execution_count": 63,
   "metadata": {},
   "outputs": [
    {
     "data": {
      "text/plain": [
       "(42.82183474662434,\n",
       " 16.04913412496952,\n",
       " 259.1263610176543,\n",
       " 9.839816933638444,\n",
       " 73.08406874129122)"
      ]
     },
     "execution_count": 63,
     "metadata": {},
     "output_type": "execute_result"
    }
   ],
   "source": [
    "#Calcul des indicateurs centraux et de dispersion\n",
    "x3 = dispo_alim5a['Ratio prot Ani']\n",
    "x3bar = np.mean(x3)\n",
    "x3sprime = np.std(x3)\n",
    "x3sprime2 = np.var(x3, ddof=1)\n",
    "x3bar, x3sprime, x3sprime2, x3.min(), x3.max()"
   ]
  },
  {
   "cell_type": "code",
   "execution_count": 64,
   "metadata": {},
   "outputs": [
    {
     "data": {
      "text/plain": [
       "Text(0.5, 1.0, 'Distribution marginale de la variable Ratio prot Ani')"
      ]
     },
     "execution_count": 64,
     "metadata": {},
     "output_type": "execute_result"
    },
    {
     "data": {
      "image/png": "[encoded data removed]",
      "text/plain": [
       "<Figure size 432x288 with 1 Axes>"
      ]
     },
     "metadata": {
      "needs_background": "light"
     },
     "output_type": "display_data"
    }
   ],
   "source": [
    "#Représentation de la distribution marginale\n",
    "n, bins, patches = plt.hist(x3, 20, density=True, facecolor='g', alpha=0.75)\n",
    "plt.axvline(x3bar, color='r', linewidth=2)\n",
    "plt.title(f'Distribution marginale de la variable {dispo_alim5a.columns[2]}')"
   ]
  },
  {
   "cell_type": "code",
   "execution_count": 65,
   "metadata": {},
   "outputs": [
    {
     "data": {
      "text/plain": [
       "Ks_2sampResult(statistic=0.10220958083832332, pvalue=0.09425010231492414)"
      ]
     },
     "execution_count": 65,
     "metadata": {},
     "output_type": "execute_result"
    }
   ],
   "source": [
    "#Test de Kolmogorov-Smirnov\n",
    "ks_2samp(x3,list(np.random.normal(x3bar, x3sprime, 1000)))"
   ]
  },
  {
   "cell_type": "code",
   "execution_count": 66,
   "metadata": {},
   "outputs": [
    {
     "data": {
      "text/plain": [
       "(0.9587015509605408, 7.563964027212933e-05)"
      ]
     },
     "execution_count": 66,
     "metadata": {},
     "output_type": "execute_result"
    }
   ],
   "source": [
    "#Test de Shapiro\n",
    "stats.shapiro(x3)"
   ]
  },
  {
   "cell_type": "markdown",
   "metadata": {},
   "source": [
    "<p style='color:#8677b2;text-align:center'>\n",
    "    On rejette l'hypothèse \"H0: le ratio prot Ani suit une loi normale\" aux niveaux de test de usuels<br/>\n",
    "</p>"
   ]
  },
  {
   "cell_type": "markdown",
   "metadata": {},
   "source": [
    "* La variable \"Disp alim prot Tot\" (disponnibilité totale en prtéines)"
   ]
  },
  {
   "cell_type": "code",
   "execution_count": 67,
   "metadata": {},
   "outputs": [
    {
     "data": {
      "text/plain": [
       "(81.52526946107787, 20.05916395217719, 404.79397447514606, 37.66, 133.54)"
      ]
     },
     "execution_count": 67,
     "metadata": {},
     "output_type": "execute_result"
    }
   ],
   "source": [
    "#Calcul des indicateurs centraux et de dispersion\n",
    "x4 = dispo_alim5a['Disp alim prot Tot']\n",
    "x4bar = np.mean(x4)\n",
    "x4sprime = np.std(x4)\n",
    "x4sprime2 = np.var(x4, ddof=1)\n",
    "x4bar, x4sprime, x4sprime2, x4.min(), x4.max()"
   ]
  },
  {
   "cell_type": "code",
   "execution_count": 68,
   "metadata": {},
   "outputs": [
    {
     "data": {
      "text/plain": [
       "Text(0.5, 1.0, 'Distribution marginale de la variable Disp alim prot Tot')"
      ]
     },
     "execution_count": 68,
     "metadata": {},
     "output_type": "execute_result"
    },
    {
     "data": {
      "image/png": "[encoded data removed]",
      "text/plain": [
       "<Figure size 432x288 with 1 Axes>"
      ]
     },
     "metadata": {
      "needs_background": "light"
     },
     "output_type": "display_data"
    }
   ],
   "source": [
    "#Représentation de la distribution marginale\n",
    "n, bins, patches = plt.hist(x4, 20, density=True, facecolor='g', alpha=0.75)\n",
    "plt.axvline(x4bar, color='r', linewidth=2)\n",
    "plt.title(f'Distribution marginale de la variable {dispo_alim5a.columns[3]}')"
   ]
  },
  {
   "cell_type": "code",
   "execution_count": 69,
   "metadata": {},
   "outputs": [
    {
     "data": {
      "text/plain": [
       "Ks_2sampResult(statistic=0.0834011976047904, pvalue=0.26103721682642156)"
      ]
     },
     "execution_count": 69,
     "metadata": {},
     "output_type": "execute_result"
    }
   ],
   "source": [
    "#Test de Kolmogorov-Smirnov\n",
    "ks_2samp(x4,list(np.random.normal(x4bar, x4sprime, 1000)))"
   ]
  },
  {
   "cell_type": "code",
   "execution_count": 70,
   "metadata": {},
   "outputs": [
    {
     "data": {
      "text/plain": [
       "(0.9817796349525452, 0.027209850028157234)"
      ]
     },
     "execution_count": 70,
     "metadata": {},
     "output_type": "execute_result"
    }
   ],
   "source": [
    "#Test de Shapiro\n",
    "stats.shapiro(x4)"
   ]
  },
  {
   "cell_type": "markdown",
   "metadata": {},
   "source": [
    "<p style='color:#8677b2;text-align:center'>\n",
    "    On accepte l'hypothèse \"H0: la diso alim prot tot suit une loi normale\" au niveau de test alpha = 2.5%<br/>\n",
    "</p>"
   ]
  },
  {
   "cell_type": "markdown",
   "metadata": {},
   "source": [
    "* La variable \"Disp alim Kcal Tot\" (disponnibilité calorique totale)"
   ]
  },
  {
   "cell_type": "code",
   "execution_count": 71,
   "metadata": {},
   "outputs": [
    {
     "data": {
      "text/plain": [
       "(2854.2335329341317, 436.1864259201327, 191404.7342904552, 1879.0, 3768.0)"
      ]
     },
     "execution_count": 71,
     "metadata": {},
     "output_type": "execute_result"
    }
   ],
   "source": [
    "#Calcul des indicateurs centraux et de dispersion\n",
    "x5 = dispo_alim5a['Disp alim Kcal Tot']\n",
    "x5bar = np.mean(x5)\n",
    "x5sprime = np.std(x5)\n",
    "x5sprime2 = np.var(x5, ddof=1)\n",
    "x5bar, x5sprime, x5sprime2, x5.min(), x5.max()"
   ]
  },
  {
   "cell_type": "code",
   "execution_count": 72,
   "metadata": {},
   "outputs": [
    {
     "data": {
      "text/plain": [
       "Text(0.5, 1.0, 'Distribution marginale de la variable Disp alim Kcal Tot')"
      ]
     },
     "execution_count": 72,
     "metadata": {},
     "output_type": "execute_result"
    },
    {
     "data": {
      "image/png": "[encoded data removed]",
      "text/plain": [
       "<Figure size 432x288 with 1 Axes>"
      ]
     },
     "metadata": {
      "needs_background": "light"
     },
     "output_type": "display_data"
    }
   ],
   "source": [
    "#Représentation de la distribution marginale\n",
    "n, bins, patches = plt.hist(x5, 20, density=True, facecolor='g', alpha=0.75)\n",
    "plt.axvline(x5bar, color='r', linewidth=2)\n",
    "plt.title(f'Distribution marginale de la variable {dispo_alim5a.columns[4]}')"
   ]
  },
  {
   "cell_type": "code",
   "execution_count": 73,
   "metadata": {},
   "outputs": [
    {
     "data": {
      "text/plain": [
       "Ks_2sampResult(statistic=0.03955688622754491, pvalue=0.9761520815341682)"
      ]
     },
     "execution_count": 73,
     "metadata": {},
     "output_type": "execute_result"
    }
   ],
   "source": [
    "#Test de Kolmogorov-Smirnov\n",
    "ks_2samp(x5,list(np.random.normal(x5bar, x5sprime, 1000)))"
   ]
  },
  {
   "cell_type": "code",
   "execution_count": 74,
   "metadata": {},
   "outputs": [
    {
     "data": {
      "text/plain": [
       "(0.9826980829238892, 0.03549310937523842)"
      ]
     },
     "execution_count": 74,
     "metadata": {},
     "output_type": "execute_result"
    }
   ],
   "source": [
    "#Test de Shapiro\n",
    "stats.shapiro(x5)"
   ]
  },
  {
   "cell_type": "markdown",
   "metadata": {},
   "source": [
    "<p style='color:#8677b2;text-align:center'>\n",
    "    On accepte l'hypothèse \"H0: la disp alim Kcal Tot suit une loi normale\" si alpha = 3.5%<br/>\n",
    "</p>"
   ]
  },
  {
   "cell_type": "markdown",
   "metadata": {},
   "source": [
    "* La variable \"PIB/Hab\""
   ]
  },
  {
   "cell_type": "code",
   "execution_count": 75,
   "metadata": {},
   "outputs": [
    {
     "data": {
      "text/plain": [
       "(17849.81976047905, 19279.387834795478, 373933920.55725783, 593.1, 135319.0)"
      ]
     },
     "execution_count": 75,
     "metadata": {},
     "output_type": "execute_result"
    }
   ],
   "source": [
    "#Calcul des indicateurs centraux et de dispersion\n",
    "x6 = dispo_alim5a['PIB/Hab']\n",
    "x6bar = np.mean(x6)\n",
    "x6sprime = np.std(x6)\n",
    "x6sprime2 = np.var(x6, ddof=1)\n",
    "x6bar, x6sprime, x6sprime2, x6.min(), x6.max()"
   ]
  },
  {
   "cell_type": "code",
   "execution_count": 76,
   "metadata": {},
   "outputs": [
    {
     "data": {
      "text/plain": [
       "Text(0.5, 1.0, 'Distribution marginale de la variable Ind Stab Pol')"
      ]
     },
     "execution_count": 76,
     "metadata": {},
     "output_type": "execute_result"
    },
    {
     "data": {
      "image/png": "[encoded data removed]",
      "text/plain": [
       "<Figure size 432x288 with 1 Axes>"
      ]
     },
     "metadata": {
      "needs_background": "light"
     },
     "output_type": "display_data"
    }
   ],
   "source": [
    "#Représentation de la distribution marginale\n",
    "n, bins, patches = plt.hist(x6, 20, density=True, facecolor='g', alpha=0.75)\n",
    "plt.axvline(x6bar, color='r', linewidth=2)\n",
    "plt.title(f'Distribution marginale de la variable {dispo_alim5a.columns[6]}')"
   ]
  },
  {
   "cell_type": "code",
   "execution_count": 77,
   "metadata": {},
   "outputs": [
    {
     "data": {
      "text/plain": [
       "Ks_2sampResult(statistic=0.168, pvalue=0.0005208251602832936)"
      ]
     },
     "execution_count": 77,
     "metadata": {},
     "output_type": "execute_result"
    }
   ],
   "source": [
    "#Test de Kolmogorov-Smirnov\n",
    "ks_2samp(x6,list(np.random.normal(x6bar, x6sprime, 1000)))"
   ]
  },
  {
   "cell_type": "code",
   "execution_count": 78,
   "metadata": {},
   "outputs": [
    {
     "data": {
      "text/plain": [
       "(0.7742094993591309, 9.171036631126176e-15)"
      ]
     },
     "execution_count": 78,
     "metadata": {},
     "output_type": "execute_result"
    }
   ],
   "source": [
    "#Test de Shapiro\n",
    "stats.shapiro(x6)"
   ]
  },
  {
   "cell_type": "markdown",
   "metadata": {},
   "source": [
    "<p style='color:#8677b2;text-align:center'>\n",
    "    On rejette l'hypothèse \"H0: la PIB/Hab suit une loi normale\" aux niveaux de test usuels<br/>\n",
    "</p>"
   ]
  },
  {
   "cell_type": "markdown",
   "metadata": {},
   "source": [
    "* La variable population en \"2013\" (indice de valeur des importations)"
   ]
  },
  {
   "cell_type": "code",
   "execution_count": 79,
   "metadata": {},
   "outputs": [
    {
     "data": {
      "text/plain": [
       "(41810.2915748503,\n",
       " 149192.1740285049,\n",
       " 22392390964.79357,\n",
       " 53.169,\n",
       " 1382793.2119999998)"
      ]
     },
     "execution_count": 79,
     "metadata": {},
     "output_type": "execute_result"
    }
   ],
   "source": [
    "#Calcul des indicateurs centraux et de dispersion\n",
    "x8 = dispo_alim5a[2013]\n",
    "x8bar = np.mean(x8)\n",
    "x8sprime = np.std(x8)\n",
    "x8sprime2 = np.var(x8, ddof=1)\n",
    "x8bar, x8sprime, x8sprime2, x8.min(), x8.max()"
   ]
  },
  {
   "cell_type": "code",
   "execution_count": 80,
   "metadata": {},
   "outputs": [
    {
     "data": {
      "text/plain": [
       "Text(0.5, 1.0, 'Distribution marginale de la variable 2013')"
      ]
     },
     "execution_count": 80,
     "metadata": {},
     "output_type": "execute_result"
    },
    {
     "data": {
      "image/png": "[encoded data removed]",
      "text/plain": [
       "<Figure size 432x288 with 1 Axes>"
      ]
     },
     "metadata": {
      "needs_background": "light"
     },
     "output_type": "display_data"
    }
   ],
   "source": [
    "#Représentation de la distribution marginale\n",
    "n, bins, patches = plt.hist(x8, 20, density=True, facecolor='g', alpha=0.75)\n",
    "plt.axvline(x8bar, color='r', linewidth=2)\n",
    "plt.title(f'Distribution marginale de la variable {dispo_alim5a.columns[0]}')"
   ]
  },
  {
   "cell_type": "code",
   "execution_count": 81,
   "metadata": {},
   "outputs": [
    {
     "data": {
      "text/plain": [
       "Ks_2sampResult(statistic=0.365, pvalue=2.4097613774465332e-17)"
      ]
     },
     "execution_count": 81,
     "metadata": {},
     "output_type": "execute_result"
    }
   ],
   "source": [
    "#Test de Kolmogorov-Smirnov\n",
    "ks_2samp(x8,list(np.random.normal(x8bar, x8sprime, 1000)))"
   ]
  },
  {
   "cell_type": "code",
   "execution_count": 82,
   "metadata": {},
   "outputs": [
    {
     "data": {
      "text/plain": [
       "(0.2396169900894165, 9.059284798533922e-26)"
      ]
     },
     "execution_count": 82,
     "metadata": {},
     "output_type": "execute_result"
    }
   ],
   "source": [
    "#Test de Shapiro\n",
    "stats.shapiro(x8)"
   ]
  },
  {
   "cell_type": "markdown",
   "metadata": {},
   "source": [
    "<p style='color:#8677b2;text-align:center'>\n",
    "    On rejette l'hypothèse \"H0: la population en 2013 suit une loi normale\" aux niveaux de test usuels<br/>\n",
    "</p>"
   ]
  },
  {
   "cell_type": "markdown",
   "metadata": {},
   "source": [
    "* Test de comparaison de deux population Gaussienne"
   ]
  },
  {
   "cell_type": "code",
   "execution_count": 83,
   "metadata": {},
   "outputs": [],
   "source": [
    "#Création des tables des clusters (les plus nombreux) à tester\n",
    "dispo_alim9 = dispo_alim7[dispo_alim7['Cluster'] == 1]\n",
    "dispo_alim10 = dispo_alim7[dispo_alim7['Cluster'] == 4]"
   ]
  },
  {
   "cell_type": "code",
   "execution_count": 84,
   "metadata": {},
   "outputs": [],
   "source": [
    "#Variable des échantillons à tester\n",
    "ech1 = dispo_alim9['Disp alim Kcal Tot']\n",
    "ech2 = dispo_alim10['Disp alim Kcal Tot']"
   ]
  },
  {
   "cell_type": "code",
   "execution_count": 85,
   "metadata": {},
   "outputs": [
    {
     "data": {
      "text/plain": [
       "(2387.9795918367345, 58263.520408163284)"
      ]
     },
     "execution_count": 85,
     "metadata": {},
     "output_type": "execute_result"
    }
   ],
   "source": [
    "#Calcul de la moyenne et de la variance de l'échantillon 1\n",
    "ech1xbar = np.mean(ech1)\n",
    "ech1sprime2 = np.var(ech1, ddof=1)\n",
    "ech1xbar, ech1sprime2"
   ]
  },
  {
   "cell_type": "code",
   "execution_count": 86,
   "metadata": {},
   "outputs": [
    {
     "data": {
      "text/plain": [
       "(3379.2972972972975, 35967.82582582582)"
      ]
     },
     "execution_count": 86,
     "metadata": {},
     "output_type": "execute_result"
    }
   ],
   "source": [
    "#Calcul de la moyenne et de la variance de l'échantillon 2\n",
    "ech2xbar = np.mean(ech2)\n",
    "ech2sprime2 = np.var(ech2, ddof=1)\n",
    "ech2xbar, ech2sprime2"
   ]
  },
  {
   "cell_type": "code",
   "execution_count": 87,
   "metadata": {},
   "outputs": [
    {
     "data": {
      "text/plain": [
       "BartlettResult(statistic=2.289853239596829, pvalue=0.1302222358565867)"
      ]
     },
     "execution_count": 87,
     "metadata": {},
     "output_type": "execute_result"
    }
   ],
   "source": [
    "#Test de Bartlett (égalité des variances)\n",
    "scipy.stats.bartlett(ech1, ech2)"
   ]
  },
  {
   "cell_type": "markdown",
   "metadata": {},
   "source": [
    "<p style='color:#8677b2;text-align:center'>\n",
    "    On accepte l'hypothèse H0 d'égalité des variance aux niveaux de test usuels<br/>\n",
    "</p>"
   ]
  },
  {
   "cell_type": "code",
   "execution_count": 88,
   "metadata": {},
   "outputs": [
    {
     "data": {
      "text/plain": [
       "Ttest_indResult(statistic=-20.623453782545823, pvalue=1.2662723670678648e-34)"
      ]
     },
     "execution_count": 88,
     "metadata": {},
     "output_type": "execute_result"
    }
   ],
   "source": [
    "#Test de Student (égalité des moyenne)\n",
    "scipy.stats.ttest_ind(ech1, ech2, equal_var=True)"
   ]
  },
  {
   "cell_type": "markdown",
   "metadata": {},
   "source": [
    "<p style='color:#8677b2;text-align:center'>\n",
    "    On rejette l'hypothèse H0 d'égalité des moyennes aux niveaux de test usuels<br/>\n",
    "</p>"
   ]
  },
  {
   "cell_type": "markdown",
   "metadata": {},
   "source": [
    "[Haut de page](#sommaire)"
   ]
  }
 ],
 "metadata": {
  "kernelspec": {
   "display_name": "Python 3",
   "language": "python",
   "name": "python3"
  },
  "language_info": {
   "codemirror_mode": {
    "name": "ipython",
    "version": 3
   },
   "file_extension": ".py",
   "mimetype": "text/x-python",
   "name": "python",
   "nbconvert_exporter": "python",
   "pygments_lexer": "ipython3",
   "version": "3.7.1"
  }
 },
 "nbformat": 4,
 "nbformat_minor": 2
}
